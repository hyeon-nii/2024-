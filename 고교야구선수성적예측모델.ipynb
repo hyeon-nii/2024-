{
  "nbformat": 4,
  "nbformat_minor": 0,
  "metadata": {
    "colab": {
      "provenance": []
    },
    "kernelspec": {
      "name": "python3",
      "display_name": "Python 3"
    },
    "language_info": {
      "name": "python"
    }
  },
  "cells": [
    {
      "cell_type": "code",
      "execution_count": null,
      "metadata": {
        "colab": {
          "base_uri": "https://localhost:8080/",
          "height": 566
        },
        "id": "-hfiTxfE-eGg",
        "outputId": "235d90c0-5a3f-47f5-a5ea-fa2a1eff2c19"
      },
      "outputs": [
        {
          "output_type": "execute_result",
          "data": {
            "text/plain": [
              "   player_id                 game_tag  평균자책점  경기수  승    패    이닝  타자   피안타  \\\n",
              "0          1             김진욱_주말리그_전반기   0.00    1  0  0.0   1.2   6   0.0   \n",
              "1          1                김진욱_황금사자기   1.59    3  2  1.0  17.1  65  12.0   \n",
              "2          1             김진욱_주말리그_후반기   5.40    2  1  0.0   4.2  20   4.0   \n",
              "3          1                 김진욱_대통령배   0.69    4  1  0.0  13.0  47   3.0   \n",
              "4          2       이믿음_KUSF 대학야구 U-리그   2.57    6  1  0.0   6.2  28   5.0   \n",
              "5          2          이믿음_전국대학야구선수권대회   4.50    4  0  0.0   8.0  32   6.0   \n",
              "6          2  이믿음_KUSF 대학야구 U-리그 왕중왕전   1.13    3  1  0.0   8.0  31   5.0   \n",
              "7          3             이병준_주말리그_전반기   0.00    1  1  0.0   2.1   7   0.0   \n",
              "8          3                  이병준_청룡기   1.00    1  0  0.0   0.2   5   1.0   \n",
              "9          3             이병준_주말리그_후반기   2.70    4  0  0.0   9.2  54   6.0   \n",
              "\n",
              "   피홈런  ...  Unnamed: 22  Unnamed: 23  Unnamed: 24  Unnamed: 25  Unnamed: 26  \\\n",
              "0    0  ...          NaN          NaN          NaN          NaN          NaN   \n",
              "1    0  ...          NaN          NaN          NaN          NaN          NaN   \n",
              "2    0  ...          NaN          NaN          NaN          NaN          NaN   \n",
              "3    0  ...          NaN          NaN          NaN          NaN          NaN   \n",
              "4    0  ...          NaN          NaN          NaN          NaN          NaN   \n",
              "5    0  ...          NaN          NaN          NaN          NaN          NaN   \n",
              "6    0  ...          NaN          NaN          NaN          NaN          NaN   \n",
              "7    0  ...          NaN          NaN          NaN          NaN          NaN   \n",
              "8    0  ...          NaN          NaN          NaN          NaN          NaN   \n",
              "9    0  ...          NaN          NaN          NaN          NaN          NaN   \n",
              "\n",
              "   Unnamed: 27  Unnamed: 28  Unnamed: 29  Unnamed: 30  Unnamed: 31  \n",
              "0          NaN          NaN          NaN          NaN          NaN  \n",
              "1          NaN          NaN          NaN          NaN          NaN  \n",
              "2          NaN          NaN          NaN          NaN          NaN  \n",
              "3          NaN          NaN          NaN          NaN          NaN  \n",
              "4          NaN          NaN          NaN          NaN          NaN  \n",
              "5          NaN          NaN          NaN          NaN          NaN  \n",
              "6          NaN          NaN          NaN          NaN          NaN  \n",
              "7          NaN          NaN          NaN          NaN          NaN  \n",
              "8          NaN          NaN          NaN          NaN          NaN  \n",
              "9          NaN          NaN          NaN          NaN          NaN  \n",
              "\n",
              "[10 rows x 32 columns]"
            ],
            "text/html": [
              "\n",
              "  <div id=\"df-cf94a3a9-7380-49bc-98d5-f31e2ac4b421\" class=\"colab-df-container\">\n",
              "    <div>\n",
              "<style scoped>\n",
              "    .dataframe tbody tr th:only-of-type {\n",
              "        vertical-align: middle;\n",
              "    }\n",
              "\n",
              "    .dataframe tbody tr th {\n",
              "        vertical-align: top;\n",
              "    }\n",
              "\n",
              "    .dataframe thead th {\n",
              "        text-align: right;\n",
              "    }\n",
              "</style>\n",
              "<table border=\"1\" class=\"dataframe\">\n",
              "  <thead>\n",
              "    <tr style=\"text-align: right;\">\n",
              "      <th></th>\n",
              "      <th>player_id</th>\n",
              "      <th>game_tag</th>\n",
              "      <th>평균자책점</th>\n",
              "      <th>경기수</th>\n",
              "      <th>승</th>\n",
              "      <th>패</th>\n",
              "      <th>이닝</th>\n",
              "      <th>타자</th>\n",
              "      <th>피안타</th>\n",
              "      <th>피홈런</th>\n",
              "      <th>...</th>\n",
              "      <th>Unnamed: 22</th>\n",
              "      <th>Unnamed: 23</th>\n",
              "      <th>Unnamed: 24</th>\n",
              "      <th>Unnamed: 25</th>\n",
              "      <th>Unnamed: 26</th>\n",
              "      <th>Unnamed: 27</th>\n",
              "      <th>Unnamed: 28</th>\n",
              "      <th>Unnamed: 29</th>\n",
              "      <th>Unnamed: 30</th>\n",
              "      <th>Unnamed: 31</th>\n",
              "    </tr>\n",
              "  </thead>\n",
              "  <tbody>\n",
              "    <tr>\n",
              "      <th>0</th>\n",
              "      <td>1</td>\n",
              "      <td>김진욱_주말리그_전반기</td>\n",
              "      <td>0.00</td>\n",
              "      <td>1</td>\n",
              "      <td>0</td>\n",
              "      <td>0.0</td>\n",
              "      <td>1.2</td>\n",
              "      <td>6</td>\n",
              "      <td>0.0</td>\n",
              "      <td>0</td>\n",
              "      <td>...</td>\n",
              "      <td>NaN</td>\n",
              "      <td>NaN</td>\n",
              "      <td>NaN</td>\n",
              "      <td>NaN</td>\n",
              "      <td>NaN</td>\n",
              "      <td>NaN</td>\n",
              "      <td>NaN</td>\n",
              "      <td>NaN</td>\n",
              "      <td>NaN</td>\n",
              "      <td>NaN</td>\n",
              "    </tr>\n",
              "    <tr>\n",
              "      <th>1</th>\n",
              "      <td>1</td>\n",
              "      <td>김진욱_황금사자기</td>\n",
              "      <td>1.59</td>\n",
              "      <td>3</td>\n",
              "      <td>2</td>\n",
              "      <td>1.0</td>\n",
              "      <td>17.1</td>\n",
              "      <td>65</td>\n",
              "      <td>12.0</td>\n",
              "      <td>0</td>\n",
              "      <td>...</td>\n",
              "      <td>NaN</td>\n",
              "      <td>NaN</td>\n",
              "      <td>NaN</td>\n",
              "      <td>NaN</td>\n",
              "      <td>NaN</td>\n",
              "      <td>NaN</td>\n",
              "      <td>NaN</td>\n",
              "      <td>NaN</td>\n",
              "      <td>NaN</td>\n",
              "      <td>NaN</td>\n",
              "    </tr>\n",
              "    <tr>\n",
              "      <th>2</th>\n",
              "      <td>1</td>\n",
              "      <td>김진욱_주말리그_후반기</td>\n",
              "      <td>5.40</td>\n",
              "      <td>2</td>\n",
              "      <td>1</td>\n",
              "      <td>0.0</td>\n",
              "      <td>4.2</td>\n",
              "      <td>20</td>\n",
              "      <td>4.0</td>\n",
              "      <td>0</td>\n",
              "      <td>...</td>\n",
              "      <td>NaN</td>\n",
              "      <td>NaN</td>\n",
              "      <td>NaN</td>\n",
              "      <td>NaN</td>\n",
              "      <td>NaN</td>\n",
              "      <td>NaN</td>\n",
              "      <td>NaN</td>\n",
              "      <td>NaN</td>\n",
              "      <td>NaN</td>\n",
              "      <td>NaN</td>\n",
              "    </tr>\n",
              "    <tr>\n",
              "      <th>3</th>\n",
              "      <td>1</td>\n",
              "      <td>김진욱_대통령배</td>\n",
              "      <td>0.69</td>\n",
              "      <td>4</td>\n",
              "      <td>1</td>\n",
              "      <td>0.0</td>\n",
              "      <td>13.0</td>\n",
              "      <td>47</td>\n",
              "      <td>3.0</td>\n",
              "      <td>0</td>\n",
              "      <td>...</td>\n",
              "      <td>NaN</td>\n",
              "      <td>NaN</td>\n",
              "      <td>NaN</td>\n",
              "      <td>NaN</td>\n",
              "      <td>NaN</td>\n",
              "      <td>NaN</td>\n",
              "      <td>NaN</td>\n",
              "      <td>NaN</td>\n",
              "      <td>NaN</td>\n",
              "      <td>NaN</td>\n",
              "    </tr>\n",
              "    <tr>\n",
              "      <th>4</th>\n",
              "      <td>2</td>\n",
              "      <td>이믿음_KUSF 대학야구 U-리그</td>\n",
              "      <td>2.57</td>\n",
              "      <td>6</td>\n",
              "      <td>1</td>\n",
              "      <td>0.0</td>\n",
              "      <td>6.2</td>\n",
              "      <td>28</td>\n",
              "      <td>5.0</td>\n",
              "      <td>0</td>\n",
              "      <td>...</td>\n",
              "      <td>NaN</td>\n",
              "      <td>NaN</td>\n",
              "      <td>NaN</td>\n",
              "      <td>NaN</td>\n",
              "      <td>NaN</td>\n",
              "      <td>NaN</td>\n",
              "      <td>NaN</td>\n",
              "      <td>NaN</td>\n",
              "      <td>NaN</td>\n",
              "      <td>NaN</td>\n",
              "    </tr>\n",
              "    <tr>\n",
              "      <th>5</th>\n",
              "      <td>2</td>\n",
              "      <td>이믿음_전국대학야구선수권대회</td>\n",
              "      <td>4.50</td>\n",
              "      <td>4</td>\n",
              "      <td>0</td>\n",
              "      <td>0.0</td>\n",
              "      <td>8.0</td>\n",
              "      <td>32</td>\n",
              "      <td>6.0</td>\n",
              "      <td>0</td>\n",
              "      <td>...</td>\n",
              "      <td>NaN</td>\n",
              "      <td>NaN</td>\n",
              "      <td>NaN</td>\n",
              "      <td>NaN</td>\n",
              "      <td>NaN</td>\n",
              "      <td>NaN</td>\n",
              "      <td>NaN</td>\n",
              "      <td>NaN</td>\n",
              "      <td>NaN</td>\n",
              "      <td>NaN</td>\n",
              "    </tr>\n",
              "    <tr>\n",
              "      <th>6</th>\n",
              "      <td>2</td>\n",
              "      <td>이믿음_KUSF 대학야구 U-리그 왕중왕전</td>\n",
              "      <td>1.13</td>\n",
              "      <td>3</td>\n",
              "      <td>1</td>\n",
              "      <td>0.0</td>\n",
              "      <td>8.0</td>\n",
              "      <td>31</td>\n",
              "      <td>5.0</td>\n",
              "      <td>0</td>\n",
              "      <td>...</td>\n",
              "      <td>NaN</td>\n",
              "      <td>NaN</td>\n",
              "      <td>NaN</td>\n",
              "      <td>NaN</td>\n",
              "      <td>NaN</td>\n",
              "      <td>NaN</td>\n",
              "      <td>NaN</td>\n",
              "      <td>NaN</td>\n",
              "      <td>NaN</td>\n",
              "      <td>NaN</td>\n",
              "    </tr>\n",
              "    <tr>\n",
              "      <th>7</th>\n",
              "      <td>3</td>\n",
              "      <td>이병준_주말리그_전반기</td>\n",
              "      <td>0.00</td>\n",
              "      <td>1</td>\n",
              "      <td>1</td>\n",
              "      <td>0.0</td>\n",
              "      <td>2.1</td>\n",
              "      <td>7</td>\n",
              "      <td>0.0</td>\n",
              "      <td>0</td>\n",
              "      <td>...</td>\n",
              "      <td>NaN</td>\n",
              "      <td>NaN</td>\n",
              "      <td>NaN</td>\n",
              "      <td>NaN</td>\n",
              "      <td>NaN</td>\n",
              "      <td>NaN</td>\n",
              "      <td>NaN</td>\n",
              "      <td>NaN</td>\n",
              "      <td>NaN</td>\n",
              "      <td>NaN</td>\n",
              "    </tr>\n",
              "    <tr>\n",
              "      <th>8</th>\n",
              "      <td>3</td>\n",
              "      <td>이병준_청룡기</td>\n",
              "      <td>1.00</td>\n",
              "      <td>1</td>\n",
              "      <td>0</td>\n",
              "      <td>0.0</td>\n",
              "      <td>0.2</td>\n",
              "      <td>5</td>\n",
              "      <td>1.0</td>\n",
              "      <td>0</td>\n",
              "      <td>...</td>\n",
              "      <td>NaN</td>\n",
              "      <td>NaN</td>\n",
              "      <td>NaN</td>\n",
              "      <td>NaN</td>\n",
              "      <td>NaN</td>\n",
              "      <td>NaN</td>\n",
              "      <td>NaN</td>\n",
              "      <td>NaN</td>\n",
              "      <td>NaN</td>\n",
              "      <td>NaN</td>\n",
              "    </tr>\n",
              "    <tr>\n",
              "      <th>9</th>\n",
              "      <td>3</td>\n",
              "      <td>이병준_주말리그_후반기</td>\n",
              "      <td>2.70</td>\n",
              "      <td>4</td>\n",
              "      <td>0</td>\n",
              "      <td>0.0</td>\n",
              "      <td>9.2</td>\n",
              "      <td>54</td>\n",
              "      <td>6.0</td>\n",
              "      <td>0</td>\n",
              "      <td>...</td>\n",
              "      <td>NaN</td>\n",
              "      <td>NaN</td>\n",
              "      <td>NaN</td>\n",
              "      <td>NaN</td>\n",
              "      <td>NaN</td>\n",
              "      <td>NaN</td>\n",
              "      <td>NaN</td>\n",
              "      <td>NaN</td>\n",
              "      <td>NaN</td>\n",
              "      <td>NaN</td>\n",
              "    </tr>\n",
              "  </tbody>\n",
              "</table>\n",
              "<p>10 rows × 32 columns</p>\n",
              "</div>\n",
              "    <div class=\"colab-df-buttons\">\n",
              "\n",
              "  <div class=\"colab-df-container\">\n",
              "    <button class=\"colab-df-convert\" onclick=\"convertToInteractive('df-cf94a3a9-7380-49bc-98d5-f31e2ac4b421')\"\n",
              "            title=\"Convert this dataframe to an interactive table.\"\n",
              "            style=\"display:none;\">\n",
              "\n",
              "  <svg xmlns=\"http://www.w3.org/2000/svg\" height=\"24px\" viewBox=\"0 -960 960 960\">\n",
              "    <path d=\"M120-120v-720h720v720H120Zm60-500h600v-160H180v160Zm220 220h160v-160H400v160Zm0 220h160v-160H400v160ZM180-400h160v-160H180v160Zm440 0h160v-160H620v160ZM180-180h160v-160H180v160Zm440 0h160v-160H620v160Z\"/>\n",
              "  </svg>\n",
              "    </button>\n",
              "\n",
              "  <style>\n",
              "    .colab-df-container {\n",
              "      display:flex;\n",
              "      gap: 12px;\n",
              "    }\n",
              "\n",
              "    .colab-df-convert {\n",
              "      background-color: #E8F0FE;\n",
              "      border: none;\n",
              "      border-radius: 50%;\n",
              "      cursor: pointer;\n",
              "      display: none;\n",
              "      fill: #1967D2;\n",
              "      height: 32px;\n",
              "      padding: 0 0 0 0;\n",
              "      width: 32px;\n",
              "    }\n",
              "\n",
              "    .colab-df-convert:hover {\n",
              "      background-color: #E2EBFA;\n",
              "      box-shadow: 0px 1px 2px rgba(60, 64, 67, 0.3), 0px 1px 3px 1px rgba(60, 64, 67, 0.15);\n",
              "      fill: #174EA6;\n",
              "    }\n",
              "\n",
              "    .colab-df-buttons div {\n",
              "      margin-bottom: 4px;\n",
              "    }\n",
              "\n",
              "    [theme=dark] .colab-df-convert {\n",
              "      background-color: #3B4455;\n",
              "      fill: #D2E3FC;\n",
              "    }\n",
              "\n",
              "    [theme=dark] .colab-df-convert:hover {\n",
              "      background-color: #434B5C;\n",
              "      box-shadow: 0px 1px 3px 1px rgba(0, 0, 0, 0.15);\n",
              "      filter: drop-shadow(0px 1px 2px rgba(0, 0, 0, 0.3));\n",
              "      fill: #FFFFFF;\n",
              "    }\n",
              "  </style>\n",
              "\n",
              "    <script>\n",
              "      const buttonEl =\n",
              "        document.querySelector('#df-cf94a3a9-7380-49bc-98d5-f31e2ac4b421 button.colab-df-convert');\n",
              "      buttonEl.style.display =\n",
              "        google.colab.kernel.accessAllowed ? 'block' : 'none';\n",
              "\n",
              "      async function convertToInteractive(key) {\n",
              "        const element = document.querySelector('#df-cf94a3a9-7380-49bc-98d5-f31e2ac4b421');\n",
              "        const dataTable =\n",
              "          await google.colab.kernel.invokeFunction('convertToInteractive',\n",
              "                                                    [key], {});\n",
              "        if (!dataTable) return;\n",
              "\n",
              "        const docLinkHtml = 'Like what you see? Visit the ' +\n",
              "          '<a target=\"_blank\" href=https://colab.research.google.com/notebooks/data_table.ipynb>data table notebook</a>'\n",
              "          + ' to learn more about interactive tables.';\n",
              "        element.innerHTML = '';\n",
              "        dataTable['output_type'] = 'display_data';\n",
              "        await google.colab.output.renderOutput(dataTable, element);\n",
              "        const docLink = document.createElement('div');\n",
              "        docLink.innerHTML = docLinkHtml;\n",
              "        element.appendChild(docLink);\n",
              "      }\n",
              "    </script>\n",
              "  </div>\n",
              "\n",
              "\n",
              "<div id=\"df-bfa56f8e-08aa-47c7-ab18-09e552183e2e\">\n",
              "  <button class=\"colab-df-quickchart\" onclick=\"quickchart('df-bfa56f8e-08aa-47c7-ab18-09e552183e2e')\"\n",
              "            title=\"Suggest charts\"\n",
              "            style=\"display:none;\">\n",
              "\n",
              "<svg xmlns=\"http://www.w3.org/2000/svg\" height=\"24px\"viewBox=\"0 0 24 24\"\n",
              "     width=\"24px\">\n",
              "    <g>\n",
              "        <path d=\"M19 3H5c-1.1 0-2 .9-2 2v14c0 1.1.9 2 2 2h14c1.1 0 2-.9 2-2V5c0-1.1-.9-2-2-2zM9 17H7v-7h2v7zm4 0h-2V7h2v10zm4 0h-2v-4h2v4z\"/>\n",
              "    </g>\n",
              "</svg>\n",
              "  </button>\n",
              "\n",
              "<style>\n",
              "  .colab-df-quickchart {\n",
              "      --bg-color: #E8F0FE;\n",
              "      --fill-color: #1967D2;\n",
              "      --hover-bg-color: #E2EBFA;\n",
              "      --hover-fill-color: #174EA6;\n",
              "      --disabled-fill-color: #AAA;\n",
              "      --disabled-bg-color: #DDD;\n",
              "  }\n",
              "\n",
              "  [theme=dark] .colab-df-quickchart {\n",
              "      --bg-color: #3B4455;\n",
              "      --fill-color: #D2E3FC;\n",
              "      --hover-bg-color: #434B5C;\n",
              "      --hover-fill-color: #FFFFFF;\n",
              "      --disabled-bg-color: #3B4455;\n",
              "      --disabled-fill-color: #666;\n",
              "  }\n",
              "\n",
              "  .colab-df-quickchart {\n",
              "    background-color: var(--bg-color);\n",
              "    border: none;\n",
              "    border-radius: 50%;\n",
              "    cursor: pointer;\n",
              "    display: none;\n",
              "    fill: var(--fill-color);\n",
              "    height: 32px;\n",
              "    padding: 0;\n",
              "    width: 32px;\n",
              "  }\n",
              "\n",
              "  .colab-df-quickchart:hover {\n",
              "    background-color: var(--hover-bg-color);\n",
              "    box-shadow: 0 1px 2px rgba(60, 64, 67, 0.3), 0 1px 3px 1px rgba(60, 64, 67, 0.15);\n",
              "    fill: var(--button-hover-fill-color);\n",
              "  }\n",
              "\n",
              "  .colab-df-quickchart-complete:disabled,\n",
              "  .colab-df-quickchart-complete:disabled:hover {\n",
              "    background-color: var(--disabled-bg-color);\n",
              "    fill: var(--disabled-fill-color);\n",
              "    box-shadow: none;\n",
              "  }\n",
              "\n",
              "  .colab-df-spinner {\n",
              "    border: 2px solid var(--fill-color);\n",
              "    border-color: transparent;\n",
              "    border-bottom-color: var(--fill-color);\n",
              "    animation:\n",
              "      spin 1s steps(1) infinite;\n",
              "  }\n",
              "\n",
              "  @keyframes spin {\n",
              "    0% {\n",
              "      border-color: transparent;\n",
              "      border-bottom-color: var(--fill-color);\n",
              "      border-left-color: var(--fill-color);\n",
              "    }\n",
              "    20% {\n",
              "      border-color: transparent;\n",
              "      border-left-color: var(--fill-color);\n",
              "      border-top-color: var(--fill-color);\n",
              "    }\n",
              "    30% {\n",
              "      border-color: transparent;\n",
              "      border-left-color: var(--fill-color);\n",
              "      border-top-color: var(--fill-color);\n",
              "      border-right-color: var(--fill-color);\n",
              "    }\n",
              "    40% {\n",
              "      border-color: transparent;\n",
              "      border-right-color: var(--fill-color);\n",
              "      border-top-color: var(--fill-color);\n",
              "    }\n",
              "    60% {\n",
              "      border-color: transparent;\n",
              "      border-right-color: var(--fill-color);\n",
              "    }\n",
              "    80% {\n",
              "      border-color: transparent;\n",
              "      border-right-color: var(--fill-color);\n",
              "      border-bottom-color: var(--fill-color);\n",
              "    }\n",
              "    90% {\n",
              "      border-color: transparent;\n",
              "      border-bottom-color: var(--fill-color);\n",
              "    }\n",
              "  }\n",
              "</style>\n",
              "\n",
              "  <script>\n",
              "    async function quickchart(key) {\n",
              "      const quickchartButtonEl =\n",
              "        document.querySelector('#' + key + ' button');\n",
              "      quickchartButtonEl.disabled = true;  // To prevent multiple clicks.\n",
              "      quickchartButtonEl.classList.add('colab-df-spinner');\n",
              "      try {\n",
              "        const charts = await google.colab.kernel.invokeFunction(\n",
              "            'suggestCharts', [key], {});\n",
              "      } catch (error) {\n",
              "        console.error('Error during call to suggestCharts:', error);\n",
              "      }\n",
              "      quickchartButtonEl.classList.remove('colab-df-spinner');\n",
              "      quickchartButtonEl.classList.add('colab-df-quickchart-complete');\n",
              "    }\n",
              "    (() => {\n",
              "      let quickchartButtonEl =\n",
              "        document.querySelector('#df-bfa56f8e-08aa-47c7-ab18-09e552183e2e button');\n",
              "      quickchartButtonEl.style.display =\n",
              "        google.colab.kernel.accessAllowed ? 'block' : 'none';\n",
              "    })();\n",
              "  </script>\n",
              "</div>\n",
              "\n",
              "    </div>\n",
              "  </div>\n"
            ],
            "application/vnd.google.colaboratory.intrinsic+json": {
              "type": "dataframe",
              "variable_name": "data"
            }
          },
          "metadata": {},
          "execution_count": 1
        }
      ],
      "source": [
        "import pandas as pd\n",
        "import numpy as np\n",
        "data = pd.read_excel(\"/content/241126_최근5년_KBO 신인 드래프트.xlsx\", sheet_name = \"2020-2025_pitcher\")\n",
        "data.head(10)"
      ]
    },
    {
      "cell_type": "code",
      "source": [
        "data.shape"
      ],
      "metadata": {
        "colab": {
          "base_uri": "https://localhost:8080/"
        },
        "id": "iWbuhV3_TpyV",
        "outputId": "68b06236-da16-4277-cf55-4fcab0ab2b44"
      },
      "execution_count": null,
      "outputs": [
        {
          "output_type": "execute_result",
          "data": {
            "text/plain": [
              "(1359, 32)"
            ]
          },
          "metadata": {},
          "execution_count": 2
        }
      ]
    },
    {
      "cell_type": "markdown",
      "source": [
        "## 키/몸무게 X"
      ],
      "metadata": {
        "id": "poPtD9b-TGZc"
      }
    },
    {
      "cell_type": "code",
      "source": [
        "# 필요한 열 선택 (예: player_id, game_id, 성적 지표 등)\n",
        "data_selected = data[['player_id', 'game_tag', '평균자책점', '피안타', '4사구', '탈삼진', 'WHIP']]\n",
        "\n",
        "# 데이터 변환 (예: player_id와 game_id를 기준으로 새로운 데이터 프레임 생성)\n",
        "data_transformed = {\n",
        "    'player_id': [],\n",
        "    'game_tag': [],\n",
        "    '평균자책점': [],\n",
        "    '피안타': [],\n",
        "    '4사구': [],\n",
        "    '탈삼진': [],\n",
        "    'WHIP': []\n",
        "}\n",
        "\n",
        "# 데이터 변환 과정 (각 행을 순회하며 새로운 형식으로 데이터 저장)\n",
        "for index, row in data_selected.iterrows():\n",
        "    data_transformed['player_id'].append(row['player_id'])\n",
        "    data_transformed['game_tag'].append(row['game_tag'])\n",
        "    data_transformed['평균자책점'].append(row['평균자책점'])\n",
        "    data_transformed['피안타'].append(row['피안타'])\n",
        "    data_transformed['4사구'].append(row['4사구'])\n",
        "    data_transformed['탈삼진'].append(row['탈삼진'])\n",
        "    data_transformed['WHIP'].append(row['WHIP'])\n",
        "\n",
        "# 변환된 데이터 프레임 생성\n",
        "df_transformed = pd.DataFrame(data_transformed)\n",
        "\n",
        "# 변환된 데이터 확인\n",
        "print(df_transformed.head())\n",
        "\n"
      ],
      "metadata": {
        "colab": {
          "base_uri": "https://localhost:8080/"
        },
        "id": "nRB-Ott4TF5m",
        "outputId": "09df786d-efb4-41fe-cd24-b68a6cf25aaa"
      },
      "execution_count": null,
      "outputs": [
        {
          "output_type": "stream",
          "name": "stdout",
          "text": [
            "   player_id            game_tag  평균자책점   피안타  4사구  탈삼진  WHIP\n",
            "0          1        김진욱_주말리그_전반기   0.00   0.0    2    3  0.00\n",
            "1          1           김진욱_황금사자기   1.59  12.0    6   28  0.88\n",
            "2          1        김진욱_주말리그_후반기   5.40   4.0    3   10  1.40\n",
            "3          1            김진욱_대통령배   0.69   3.0    4   14  0.38\n",
            "4          2  이믿음_KUSF 대학야구 U-리그   2.57   5.0    4    5  1.14\n"
          ]
        }
      ]
    },
    {
      "cell_type": "code",
      "source": [
        "print(df_transformed)"
      ],
      "metadata": {
        "colab": {
          "base_uri": "https://localhost:8080/"
        },
        "id": "JPtzLtaVOPIp",
        "outputId": "95c8f53d-bc66-47fe-9fc2-f6df7cc00a9a"
      },
      "execution_count": null,
      "outputs": [
        {
          "output_type": "stream",
          "name": "stdout",
          "text": [
            "      player_id            game_tag  평균자책점   피안타  4사구  탈삼진  WHIP\n",
            "0             1        김진욱_주말리그_전반기   0.00   0.0    2    3  0.00\n",
            "1             1           김진욱_황금사자기   1.59  12.0    6   28  0.88\n",
            "2             1        김진욱_주말리그_후반기   5.40   4.0    3   10  1.40\n",
            "3             1            김진욱_대통령배   0.69   3.0    4   14  0.38\n",
            "4             2  이믿음_KUSF 대학야구 U-리그   2.57   5.0    4    5  1.14\n",
            "...         ...                 ...    ...   ...  ...  ...   ...\n",
            "1354        291            박준혁_이마트배   1.29   5.0    3   10  1.00\n",
            "1355        291        박준혁_주말리그_후반기   0.00   1.0    3    7  0.63\n",
            "1356        291           박준혁_황금사자기   0.00   5.0    2    3  1.40\n",
            "1357        291             박준혁_청룡기   0.00   4.0    2    6  1.00\n",
            "1358        291            박준혁_봉황대기   0.00   7.0    2    9  1.29\n",
            "\n",
            "[1359 rows x 7 columns]\n"
          ]
        }
      ]
    },
    {
      "cell_type": "markdown",
      "source": [
        "player_id가 같은 선수들의 성적을 모아 groupby한 후, 각 성적 지표들에 대한 표준편차를 계산해 추가한다."
      ],
      "metadata": {
        "id": "uUAMw2ZvHm_P"
      }
    },
    {
      "cell_type": "code",
      "source": [
        "player_stats_std = data_selected.groupby('player_id').agg({\n",
        "    '평균자책점': 'std',\n",
        "    '피안타': 'std',\n",
        "    '탈삼진': 'std',\n",
        "    '4사구': 'std',\n",
        "    'WHIP': 'std',\n",
        "}).reset_index()\n",
        "\n",
        "# 컬럼 이름 변경\n",
        "player_stats_std.columns = ['player_id', '평균자책점_표준편차', '피안타_표준편차', '탈삼진_표준편차', '4사구_표준편차','WHIP_표준편차']\n",
        "\n",
        "# 결과 확인\n",
        "print(player_stats_std)"
      ],
      "metadata": {
        "colab": {
          "base_uri": "https://localhost:8080/"
        },
        "id": "Jjvig-owUz1N",
        "outputId": "e3794d7a-129f-472c-9f31-ba3fe2844e4c"
      },
      "execution_count": null,
      "outputs": [
        {
          "output_type": "stream",
          "name": "stdout",
          "text": [
            "     player_id  평균자책점_표준편차  피안타_표준편차   탈삼진_표준편차  4사구_표준편차  WHIP_표준편차\n",
            "0            1    2.409606  5.123475  10.531698  1.707825   0.608249\n",
            "1            2    1.690927  0.577350   2.516611  0.000000   0.078102\n",
            "2            3    1.365040  3.214550   4.358899  9.814955   1.252996\n",
            "3            4    2.291455  4.123106   2.160247  5.322906   0.825692\n",
            "4            5    1.288109  6.164414   8.386497  2.986079   0.182665\n",
            "..         ...         ...       ...        ...       ...        ...\n",
            "284        287    0.883816  3.420526   8.734987  0.447214   0.193727\n",
            "285        288    2.287553  6.396614   6.480741  2.943920   0.444625\n",
            "286        289    1.278699  1.923538   6.855655  1.516575   0.220409\n",
            "287        290    3.117438  2.786874   6.782330  3.430258   0.527788\n",
            "288        291    0.526640  2.065591   2.738613  0.516398   0.270308\n",
            "\n",
            "[289 rows x 6 columns]\n"
          ]
        }
      ]
    },
    {
      "cell_type": "code",
      "source": [
        "# 원래 데이터와 병합\n",
        "data_merged = pd.merge(df_transformed, player_stats_std, on='player_id')\n",
        "\n",
        "# 결과 확인\n",
        "print(data_merged)"
      ],
      "metadata": {
        "colab": {
          "base_uri": "https://localhost:8080/"
        },
        "id": "p8qlDlApVfck",
        "outputId": "d6a178cc-75db-414c-a3ce-3d4b5df2b27b"
      },
      "execution_count": null,
      "outputs": [
        {
          "output_type": "stream",
          "name": "stdout",
          "text": [
            "      player_id            game_tag  평균자책점   피안타  4사구  탈삼진  WHIP  평균자책점_표준편차  \\\n",
            "0             1        김진욱_주말리그_전반기   0.00   0.0    2    3  0.00    2.409606   \n",
            "1             1           김진욱_황금사자기   1.59  12.0    6   28  0.88    2.409606   \n",
            "2             1        김진욱_주말리그_후반기   5.40   4.0    3   10  1.40    2.409606   \n",
            "3             1            김진욱_대통령배   0.69   3.0    4   14  0.38    2.409606   \n",
            "4             2  이믿음_KUSF 대학야구 U-리그   2.57   5.0    4    5  1.14    1.690927   \n",
            "...         ...                 ...    ...   ...  ...  ...   ...         ...   \n",
            "1354        291            박준혁_이마트배   1.29   5.0    3   10  1.00    0.526640   \n",
            "1355        291        박준혁_주말리그_후반기   0.00   1.0    3    7  0.63    0.526640   \n",
            "1356        291           박준혁_황금사자기   0.00   5.0    2    3  1.40    0.526640   \n",
            "1357        291             박준혁_청룡기   0.00   4.0    2    6  1.00    0.526640   \n",
            "1358        291            박준혁_봉황대기   0.00   7.0    2    9  1.29    0.526640   \n",
            "\n",
            "      피안타_표준편차   탈삼진_표준편차  4사구_표준편차  WHIP_표준편차  \n",
            "0     5.123475  10.531698  1.707825   0.608249  \n",
            "1     5.123475  10.531698  1.707825   0.608249  \n",
            "2     5.123475  10.531698  1.707825   0.608249  \n",
            "3     5.123475  10.531698  1.707825   0.608249  \n",
            "4     0.577350   2.516611  0.000000   0.078102  \n",
            "...        ...        ...       ...        ...  \n",
            "1354  2.065591   2.738613  0.516398   0.270308  \n",
            "1355  2.065591   2.738613  0.516398   0.270308  \n",
            "1356  2.065591   2.738613  0.516398   0.270308  \n",
            "1357  2.065591   2.738613  0.516398   0.270308  \n",
            "1358  2.065591   2.738613  0.516398   0.270308  \n",
            "\n",
            "[1359 rows x 12 columns]\n"
          ]
        }
      ]
    },
    {
      "cell_type": "markdown",
      "source": [
        "부족한 데이터 수를 보강하기 위해 노이즈를 더해 데이터를 보강하는 함수.\n",
        "앞서 계산한 표준편차를 활용한다. 함수의 로직은 다음과 같다.\n",
        "1. 0부터 noise_level*표준편차 범위 내에서 정규분포를 따르는 숫자 중 하나를 임의로 생성해 noise에 저장\n",
        "2. 이를 증강 데이터에 더해서 가상 데이터 생성\n",
        "3. augmentation_factor만큼 반복문을 실행해 n배 만큼의 가상 데이터 생성"
      ],
      "metadata": {
        "id": "OZ2ViqVgH8cI"
      }
    },
    {
      "cell_type": "code",
      "source": [
        "# 노이즈를 추가하는 함수\n",
        "def augment_data_with_fluctuation(row, std_multipliers, noise_level=0.1):\n",
        "    augmented_row = row.copy()\n",
        "    for col, std_col in std_multipliers.items():\n",
        "        noise = np.random.normal(0, noise_level * row[std_col])\n",
        "        augmented_row[col] += noise\n",
        "    return augmented_row\n",
        "\n",
        "# 표준편차에 따른 노이즈 추가 설정\n",
        "std_multipliers = {\n",
        "    '평균자책점': '평균자책점_표준편차',\n",
        "    '피안타': '피안타_표준편차',\n",
        "    '4사구': '4사구_표준편차',\n",
        "    '탈삼진': '탈삼진_표준편차',\n",
        "    'WHIP': 'WHIP_표준편차'\n",
        "}\n",
        "\n",
        "augmentation_factor = 4  # 원본 데이터의 몇 배로 증강할지 설정 (여기서는 4배로 증강)\n",
        "\n",
        "# 증강 데이터 생성\n",
        "augmented_data = pd.concat([data_merged.apply(augment_data_with_fluctuation, axis=1, std_multipliers=std_multipliers) for _ in range(augmentation_factor)])\n",
        "\n",
        "# 원본 데이터와 증강 데이터를 합침\n",
        "augmented_df = pd.concat([data_merged, augmented_data], ignore_index=True)\n",
        "\n",
        "desired_columns = ['player_id', 'game_tag', '평균자책점', '피안타', '4사구', '탈삼진', 'WHIP',\n",
        "                   '평균자책점_표준편차', '피안타_표준편차', '4사구_표준편차', '탈삼진_표준편차', 'WHIP_표준편차']\n",
        "\n",
        "augmented_df = augmented_df[desired_columns]\n",
        "\n",
        "# 결과 확인\n",
        "print(augmented_df)"
      ],
      "metadata": {
        "colab": {
          "base_uri": "https://localhost:8080/"
        },
        "id": "k7NfaPdEWlC2",
        "outputId": "65b75921-862a-4626-fa79-5ea5d27c4f5b"
      },
      "execution_count": null,
      "outputs": [
        {
          "output_type": "stream",
          "name": "stdout",
          "text": [
            "      player_id            game_tag     평균자책점        피안타       4사구        탈삼진  \\\n",
            "0             1        김진욱_주말리그_전반기  0.000000   0.000000  2.000000   3.000000   \n",
            "1             1           김진욱_황금사자기  1.590000  12.000000  6.000000  28.000000   \n",
            "2             1        김진욱_주말리그_후반기  5.400000   4.000000  3.000000  10.000000   \n",
            "3             1            김진욱_대통령배  0.690000   3.000000  4.000000  14.000000   \n",
            "4             2  이믿음_KUSF 대학야구 U-리그  2.570000   5.000000  4.000000   5.000000   \n",
            "...         ...                 ...       ...        ...       ...        ...   \n",
            "6790        291            박준혁_이마트배  1.207591   5.076352  2.970911  10.001481   \n",
            "6791        291        박준혁_주말리그_후반기 -0.038456   1.195653  2.950543   6.636431   \n",
            "6792        291           박준혁_황금사자기  0.060704   4.740497  2.012377   2.686276   \n",
            "6793        291             박준혁_청룡기 -0.064136   3.883466  2.060114   5.661816   \n",
            "6794        291            박준혁_봉황대기 -0.035754   6.961586  2.079932   9.149797   \n",
            "\n",
            "          WHIP  평균자책점_표준편차  피안타_표준편차  4사구_표준편차   탈삼진_표준편차  WHIP_표준편차  \n",
            "0     0.000000    2.409606  5.123475  1.707825  10.531698   0.608249  \n",
            "1     0.880000    2.409606  5.123475  1.707825  10.531698   0.608249  \n",
            "2     1.400000    2.409606  5.123475  1.707825  10.531698   0.608249  \n",
            "3     0.380000    2.409606  5.123475  1.707825  10.531698   0.608249  \n",
            "4     1.140000    1.690927  0.577350  0.000000   2.516611   0.078102  \n",
            "...        ...         ...       ...       ...        ...        ...  \n",
            "6790  1.028871    0.526640  2.065591  0.516398   2.738613   0.270308  \n",
            "6791  0.626164    0.526640  2.065591  0.516398   2.738613   0.270308  \n",
            "6792  1.349136    0.526640  2.065591  0.516398   2.738613   0.270308  \n",
            "6793  1.038253    0.526640  2.065591  0.516398   2.738613   0.270308  \n",
            "6794  1.305343    0.526640  2.065591  0.516398   2.738613   0.270308  \n",
            "\n",
            "[6795 rows x 12 columns]\n"
          ]
        }
      ]
    },
    {
      "cell_type": "code",
      "source": [
        "null_rows = data_merged[data_merged.isnull().any(axis=1)]\n",
        "print(null_rows)\n"
      ],
      "metadata": {
        "colab": {
          "base_uri": "https://localhost:8080/"
        },
        "id": "WGdZeGbSYkBu",
        "outputId": "f5636310-ecb9-44fa-fa3c-d290ea67da15"
      },
      "execution_count": null,
      "outputs": [
        {
          "output_type": "stream",
          "name": "stdout",
          "text": [
            "Empty DataFrame\n",
            "Columns: [player_id, game_tag, 평균자책점, 피안타, 4사구, 탈삼진, WHIP, 평균자책점_표준편차, 피안타_표준편차, 탈삼진_표준편차, 4사구_표준편차, WHIP_표준편차]\n",
            "Index: []\n"
          ]
        }
      ]
    },
    {
      "cell_type": "code",
      "source": [
        "# 성적이 하나인 경우 표준편차가 NaN인 행 삭제\n",
        "data_merged.dropna(inplace=True)"
      ],
      "metadata": {
        "id": "et45BuoehVDd"
      },
      "execution_count": null,
      "outputs": []
    },
    {
      "cell_type": "code",
      "source": [
        "augmented_df.isnull().sum()"
      ],
      "metadata": {
        "colab": {
          "base_uri": "https://localhost:8080/",
          "height": 460
        },
        "id": "v_r-X1TQVZol",
        "outputId": "1deb3e00-e3e4-4167-98a4-aef1fea59841"
      },
      "execution_count": null,
      "outputs": [
        {
          "output_type": "execute_result",
          "data": {
            "text/plain": [
              "player_id     0\n",
              "game_tag      0\n",
              "평균자책점         0\n",
              "피안타           0\n",
              "4사구           0\n",
              "탈삼진           0\n",
              "WHIP          0\n",
              "평균자책점_표준편차    0\n",
              "피안타_표준편차      0\n",
              "4사구_표준편차      0\n",
              "탈삼진_표준편차      0\n",
              "WHIP_표준편차     0\n",
              "dtype: int64"
            ],
            "text/html": [
              "<div>\n",
              "<style scoped>\n",
              "    .dataframe tbody tr th:only-of-type {\n",
              "        vertical-align: middle;\n",
              "    }\n",
              "\n",
              "    .dataframe tbody tr th {\n",
              "        vertical-align: top;\n",
              "    }\n",
              "\n",
              "    .dataframe thead th {\n",
              "        text-align: right;\n",
              "    }\n",
              "</style>\n",
              "<table border=\"1\" class=\"dataframe\">\n",
              "  <thead>\n",
              "    <tr style=\"text-align: right;\">\n",
              "      <th></th>\n",
              "      <th>0</th>\n",
              "    </tr>\n",
              "  </thead>\n",
              "  <tbody>\n",
              "    <tr>\n",
              "      <th>player_id</th>\n",
              "      <td>0</td>\n",
              "    </tr>\n",
              "    <tr>\n",
              "      <th>game_tag</th>\n",
              "      <td>0</td>\n",
              "    </tr>\n",
              "    <tr>\n",
              "      <th>평균자책점</th>\n",
              "      <td>0</td>\n",
              "    </tr>\n",
              "    <tr>\n",
              "      <th>피안타</th>\n",
              "      <td>0</td>\n",
              "    </tr>\n",
              "    <tr>\n",
              "      <th>4사구</th>\n",
              "      <td>0</td>\n",
              "    </tr>\n",
              "    <tr>\n",
              "      <th>탈삼진</th>\n",
              "      <td>0</td>\n",
              "    </tr>\n",
              "    <tr>\n",
              "      <th>WHIP</th>\n",
              "      <td>0</td>\n",
              "    </tr>\n",
              "    <tr>\n",
              "      <th>평균자책점_표준편차</th>\n",
              "      <td>0</td>\n",
              "    </tr>\n",
              "    <tr>\n",
              "      <th>피안타_표준편차</th>\n",
              "      <td>0</td>\n",
              "    </tr>\n",
              "    <tr>\n",
              "      <th>4사구_표준편차</th>\n",
              "      <td>0</td>\n",
              "    </tr>\n",
              "    <tr>\n",
              "      <th>탈삼진_표준편차</th>\n",
              "      <td>0</td>\n",
              "    </tr>\n",
              "    <tr>\n",
              "      <th>WHIP_표준편차</th>\n",
              "      <td>0</td>\n",
              "    </tr>\n",
              "  </tbody>\n",
              "</table>\n",
              "</div><br><label><b>dtype:</b> int64</label>"
            ]
          },
          "metadata": {},
          "execution_count": 45
        }
      ]
    },
    {
      "cell_type": "markdown",
      "source": [
        "# Random Forest"
      ],
      "metadata": {
        "id": "GiQYTmeolxHW"
      }
    },
    {
      "cell_type": "code",
      "source": [
        "from sklearn.model_selection import train_test_split\n",
        "from sklearn.ensemble import RandomForestRegressor\n",
        "from sklearn.metrics import mean_squared_error, r2_score\n",
        "from sklearn.model_selection import GridSearchCV\n",
        "import joblib\n",
        "\n",
        "# 데이터 로드\n",
        "data = augmented_df\n",
        "\n",
        "# 필요 없는 열 제거 (예: 'game_tag')\n",
        "data = data.drop(columns=['player_id', 'game_tag'])\n",
        "\n",
        "# 결측치 처리 (필요한 경우)\n",
        "data = data.fillna(data.mean())\n",
        "\n",
        "# 특성(X)와 타깃(y) 분리\n",
        "X = data.drop(columns=['평균자책점'])\n",
        "y = data['평균자책점']\n",
        "\n",
        "# 데이터 분할\n",
        "X_train, X_test, y_train, y_test = train_test_split(X, y, test_size=0.2, random_state=42)\n",
        "\n",
        "# 모델 초기화 및 학습\n",
        "model = RandomForestRegressor(n_estimators=100, random_state=42)\n",
        "model.fit(X_train, y_train)\n",
        "\n",
        "# 모델 평가\n",
        "y_pred = model.predict(X_test)\n",
        "mse = mean_squared_error(y_test, y_pred)\n",
        "r2 = r2_score(y_test, y_pred)\n",
        "print(f'Mean Squared Error: {mse}')\n",
        "print(f'R^2 Score: {r2}')\n",
        "\n",
        "# 모델 튜닝 (선택 사항)\n",
        "param_grid = {\n",
        "    'n_estimators': [50, 100, 200],\n",
        "    'max_depth': [None, 10, 20, 30],\n",
        "    'min_samples_split': [2, 5, 10],\n",
        "    'min_samples_leaf': [1, 2, 4]\n",
        "}\n",
        "grid_search = GridSearchCV(estimator=model, param_grid=param_grid, cv=3, n_jobs=-1, verbose=2)\n",
        "grid_search.fit(X_train, y_train)\n",
        "best_model_rf = grid_search.best_estimator_\n",
        "\n",
        "# 최적의 모델 평가\n",
        "y_pred_best = best_model_rf.predict(X_test)\n",
        "mse_best = mean_squared_error(y_test, y_pred_best)\n",
        "r2_best = r2_score(y_test, y_pred_best)\n",
        "print(f'Best Mean Squared Error: {mse_best}')\n",
        "print(f'Best R^2 Score: {r2_best}')\n",
        "\n",
        "# 모델 저장\n",
        "joblib.dump(best_model, 'best_model_rf.pkl')\n"
      ],
      "metadata": {
        "colab": {
          "base_uri": "https://localhost:8080/"
        },
        "id": "_pbPpGeDdQdU",
        "outputId": "05646ebf-077b-4d60-d769-968596f8e647"
      },
      "execution_count": null,
      "outputs": [
        {
          "output_type": "stream",
          "name": "stdout",
          "text": [
            "Mean Squared Error: 1.5632976601362136\n",
            "R^2 Score: 0.9568878933292769\n",
            "Fitting 3 folds for each of 108 candidates, totalling 324 fits\n",
            "Best Mean Squared Error: 1.5706841266400193\n",
            "Best R^2 Score: 0.9566841917950444\n"
          ]
        },
        {
          "output_type": "execute_result",
          "data": {
            "text/plain": [
              "['best_model_rf.pkl']"
            ]
          },
          "metadata": {},
          "execution_count": 31
        }
      ]
    },
    {
      "cell_type": "markdown",
      "source": [
        "랜덤 포레스트 모델의 학습 결과는 위와 같았다."
      ],
      "metadata": {
        "id": "LDZFIyJQLiI-"
      }
    },
    {
      "cell_type": "code",
      "source": [
        "import matplotlib.pyplot as plt\n",
        "import seaborn as sns\n",
        "\n",
        "# 잔차 계산\n",
        "residuals = y_test - y_pred\n",
        "\n",
        "# 잔차 분포 시각화\n",
        "plt.figure(figsize=(10, 6))\n",
        "sns.histplot(residuals, kde=True)\n",
        "plt.title('Residuals Distribution')\n",
        "plt.xlabel('Residuals')\n",
        "plt.ylabel('Frequency')\n",
        "plt.show()\n",
        "\n",
        "# 잔차의 평균과 분산 확인\n",
        "print(f'잔차의 평균: {np.mean(residuals):.4f}')\n",
        "print(f'잔차의 분산: {np.var(residuals):.4f}')\n"
      ],
      "metadata": {
        "colab": {
          "base_uri": "https://localhost:8080/",
          "height": 600
        },
        "id": "EAYzBs53nubO",
        "outputId": "3808d5c6-7878-472b-974e-24d7cb2205d3"
      },
      "execution_count": null,
      "outputs": [
        {
          "output_type": "display_data",
          "data": {
            "text/plain": [
              "<Figure size 1000x600 with 1 Axes>"
            ],
            "image/png": "[encoded data removed]"
          },
          "metadata": {}
        },
        {
          "output_type": "stream",
          "name": "stdout",
          "text": [
            "잔차의 평균: -0.0242\n",
            "잔차의 분산: 1.5627\n"
          ]
        }
      ]
    },
    {
      "cell_type": "markdown",
      "source": [
        "## 잔차 분석\n",
        "'야구 데이터가 타율, OPS는 소수점으로 나타나고 다른 성적 지표들도 비교적 작은 범위의 자연수로 분포되어 있어서 결과가 좋게 나오는건 아닐까?' 라는 가설이 제기되어 이를 확인해보고자 잔차 분석을 실시했다."
      ],
      "metadata": {
        "id": "dfpXC2ajI9fE"
      }
    },
    {
      "cell_type": "code",
      "source": [
        "import matplotlib.pyplot as plt\n",
        "\n",
        "# 피처 중요도 출력\n",
        "feature_importances_with_std = best_model_rf.feature_importances_\n",
        "features_with_std = X.columns\n",
        "\n",
        "feature_importance_with_std_df = pd.DataFrame({'Feature': features_with_std, 'Importance': feature_importances_with_std})\n",
        "\n",
        "print(\"\\n표준편차 포함 모델 피처 중요도:\")\n",
        "print(feature_importance_with_std_df.sort_values(by='Importance', ascending=False))"
      ],
      "metadata": {
        "colab": {
          "base_uri": "https://localhost:8080/"
        },
        "id": "7L1wZh6fyx9m",
        "outputId": "005fc6b9-6392-42c9-c03a-50cba77ed0e2"
      },
      "execution_count": null,
      "outputs": [
        {
          "output_type": "stream",
          "name": "stdout",
          "text": [
            "\n",
            "표준편차 포함 모델 피처 중요도:\n",
            "      Feature  Importance\n",
            "3        WHIP    0.624221\n",
            "4  평균자책점_표준편차    0.235125\n",
            "0         피안타    0.029298\n",
            "8   WHIP_표준편차    0.025863\n",
            "2         탈삼진    0.019735\n",
            "1         4사구    0.018302\n",
            "7    탈삼진_표준편차    0.016001\n",
            "6    4사구_표준편차    0.015944\n",
            "5    피안타_표준편차    0.015511\n"
          ]
        }
      ]
    },
    {
      "cell_type": "markdown",
      "source": [
        "투수 모델의 경우 WHIP(이닝별 주차 출루 허용 비율)을 많이 사용했음을 확인할 수 있었다."
      ],
      "metadata": {
        "id": "xRG0tnDjLojo"
      }
    },
    {
      "cell_type": "markdown",
      "source": [
        "## XGBoost"
      ],
      "metadata": {
        "id": "BRSPOYrxTYC6"
      }
    },
    {
      "cell_type": "code",
      "source": [
        "import xgboost as xgb\n",
        "from sklearn.model_selection import train_test_split\n",
        "from sklearn.metrics import mean_squared_error, r2_score\n",
        "from sklearn.model_selection import GridSearchCV\n",
        "import joblib\n",
        "\n",
        "# 데이터 로드\n",
        "data = augmented_df\n",
        "\n",
        "# 필요 없는 열 제거 (예: 'game_tag')\n",
        "data = data.drop(columns=['player_id', 'game_tag'])\n",
        "\n",
        "# 결측치 처리 (필요한 경우)\n",
        "data = data.fillna(data.mean())\n",
        "\n",
        "# 특성(X)와 타깃(y) 분리\n",
        "X = data.drop(columns=['평균자책점'])\n",
        "y = data['평균자책점']\n",
        "\n",
        "# 데이터 분할\n",
        "X_train, X_test, y_train, y_test = train_test_split(X, y, test_size=0.2, random_state=42)\n",
        "\n",
        "# XGBoost 모델 초기화 및 학습\n",
        "model = xgb.XGBRegressor(random_state=42)\n",
        "model.fit(X_train, y_train)\n",
        "\n",
        "# 모델 평가\n",
        "y_pred = model.predict(X_test)\n",
        "mse = mean_squared_error(y_test, y_pred)\n",
        "r2 = r2_score(y_test, y_pred)\n",
        "print(f'Mean Squared Error: {mse}')\n",
        "print(f'R^2 Score: {r2}')\n",
        "\n",
        "# 모델 튜닝\n",
        "param_grid = {\n",
        "    'max_depth': [3, 5, 7],\n",
        "    'learning_rate': [0.01, 0.05, 0.1],\n",
        "    'n_estimators': [100, 200, 500]\n",
        "}\n",
        "grid_search = GridSearchCV(estimator=model, param_grid=param_grid, cv=3, n_jobs=-1, verbose=2)\n",
        "grid_search.fit(X_train, y_train)\n",
        "best_model_xgb = grid_search.best_estimator_\n",
        "\n",
        "# 최적의 모델 평가\n",
        "y_pred_best = best_model_xgb.predict(X_test)\n",
        "mse_best = mean_squared_error(y_test, y_pred_best)\n",
        "r2_best = r2_score(y_test, y_pred_best)\n",
        "print(f'Best Mean Squared Error: {mse_best}')\n",
        "print(f'Best R^2 Score: {r2_best}')\n",
        "\n",
        "# 모델 저장\n",
        "joblib.dump(best_model, 'best_model_xgb.pkl')\n"
      ],
      "metadata": {
        "colab": {
          "base_uri": "https://localhost:8080/"
        },
        "id": "Q3_bzNKFTX1y",
        "outputId": "cc75fb3d-371c-4508-9d85-a001b008fcbe"
      },
      "execution_count": null,
      "outputs": [
        {
          "output_type": "stream",
          "name": "stdout",
          "text": [
            "Mean Squared Error: 1.5474994239396078\n",
            "R^2 Score: 0.9573235718705331\n",
            "Fitting 3 folds for each of 27 candidates, totalling 81 fits\n",
            "Best Mean Squared Error: 1.2589076566023158\n",
            "Best R^2 Score: 0.9652822603372284\n"
          ]
        },
        {
          "output_type": "execute_result",
          "data": {
            "text/plain": [
              "['best_model_xgb.pkl']"
            ]
          },
          "metadata": {},
          "execution_count": 22
        }
      ]
    },
    {
      "cell_type": "code",
      "source": [
        "import xgboost as xgb\n",
        "from sklearn.model_selection import cross_val_score\n",
        "from sklearn.metrics import r2_score, mean_squared_error\n",
        "import numpy as np\n",
        "import matplotlib.pyplot as plt\n",
        "import seaborn as sns\n",
        "\n",
        "# XGBoost 모델\n",
        "xgb_model = xgb.XGBRegressor(objective='reg:squarederror', random_state=42)\n",
        "\n",
        "# 교차 검증\n",
        "cv_scores_xgb = cross_val_score(xgb_model, X, y, cv=5, scoring='r2')\n",
        "\n",
        "# 모델 훈련\n",
        "xgb_model.fit(X_train, y_train)\n",
        "y_pred_xgb = xgb_model.predict(X_test)\n",
        "\n",
        "# 모델 평가\n",
        "r2_xgb = r2_score(y_test, y_pred_xgb)\n",
        "mse_xgb = mean_squared_error(y_test, y_pred_xgb)\n",
        "\n",
        "print(f'XGBoost 모델 - R^2: {r2_xgb:.4f}, MSE: {mse_xgb:.4f}')\n",
        "print(f'XGBoost 모델 - Cross-Validation R^2: {cv_scores_xgb.mean():.4f}')\n",
        "\n",
        "# 잔차 계산\n",
        "residuals_xgb = y_test - y_pred_xgb\n",
        "\n",
        "# 잔차 분포 시각화\n",
        "plt.figure(figsize=(10, 6))\n",
        "sns.histplot(residuals_xgb, kde=True)\n",
        "plt.title('XGBoost model''s Residuals Distribution')\n",
        "plt.xlabel('Residuals')\n",
        "plt.ylabel('Frequency')\n",
        "plt.show()\n",
        "\n",
        "# 잔차의 평균과 분산 확인\n",
        "print(f'XGBoost 모델 잔차의 평균: {np.mean(residuals_xgb):.4f}')\n",
        "print(f'XGBoost 모델 잔차의 분산: {np.var(residuals_xgb):.4f}')\n"
      ],
      "metadata": {
        "id": "WHDxwqGATMuv",
        "colab": {
          "base_uri": "https://localhost:8080/",
          "height": 635
        },
        "outputId": "52da2ae9-5487-4151-9685-e507d38b6aee"
      },
      "execution_count": null,
      "outputs": [
        {
          "output_type": "stream",
          "name": "stdout",
          "text": [
            "XGBoost 모델 - R^2: 0.9573, MSE: 1.5475\n",
            "XGBoost 모델 - Cross-Validation R^2: 0.9676\n"
          ]
        },
        {
          "output_type": "display_data",
          "data": {
            "text/plain": [
              "<Figure size 1000x600 with 1 Axes>"
            ],
            "image/png": "[encoded data removed]"
          },
          "metadata": {}
        },
        {
          "output_type": "stream",
          "name": "stdout",
          "text": [
            "XGBoost 모델 잔차의 평균: -0.0529\n",
            "XGBoost 모델 잔차의 분산: 1.5447\n"
          ]
        }
      ]
    },
    {
      "cell_type": "markdown",
      "source": [
        "XGBoost 모델의 잔차 분석 결과는 위와 같았다. 전반적으로 평균이 0에 가깝고 그 분산도 적당했으나 그래프로 판단할 때 차이가 큰 값이 소량 존재하는 것으로 확인되었다."
      ],
      "metadata": {
        "id": "4G2oXUq8LyeF"
      }
    },
    {
      "cell_type": "code",
      "source": [
        "import matplotlib.pyplot as plt\n",
        "\n",
        "# 피처 중요도 출력\n",
        "feature_importances_with_std = best_model_xgb.feature_importances_\n",
        "features_with_std = X.columns\n",
        "\n",
        "feature_importance_with_std_df = pd.DataFrame({'Feature': features_with_std, 'Importance': feature_importances_with_std})\n",
        "\n",
        "print(\"\\n표준편차 포함 모델 피처 중요도:\")\n",
        "print(feature_importance_with_std_df.sort_values(by='Importance', ascending=False))"
      ],
      "metadata": {
        "colab": {
          "base_uri": "https://localhost:8080/"
        },
        "id": "tvsRs95czDDY",
        "outputId": "2ff361de-5641-425e-e788-6455de08175e"
      },
      "execution_count": null,
      "outputs": [
        {
          "output_type": "stream",
          "name": "stdout",
          "text": [
            "\n",
            "표준편차 포함 모델 피처 중요도:\n",
            "      Feature  Importance\n",
            "3        WHIP    0.489564\n",
            "4  평균자책점_표준편차    0.355742\n",
            "8   WHIP_표준편차    0.034181\n",
            "7    탈삼진_표준편차    0.029395\n",
            "5    피안타_표준편차    0.025088\n",
            "6    4사구_표준편차    0.024128\n",
            "0         피안타    0.018216\n",
            "2         탈삼진    0.012961\n",
            "1         4사구    0.010725\n"
          ]
        }
      ]
    },
    {
      "cell_type": "markdown",
      "source": [
        "XGBoost의 경우도 whip을 주요한 피쳐로 활용했음을 알 수 있었다."
      ],
      "metadata": {
        "id": "qcq64EDRL8qj"
      }
    },
    {
      "cell_type": "markdown",
      "source": [
        "# LightGBM"
      ],
      "metadata": {
        "id": "Vncq4U7Ul3ot"
      }
    },
    {
      "cell_type": "code",
      "source": [
        "import lightgbm as lgb\n",
        "from sklearn.model_selection import train_test_split\n",
        "from sklearn.metrics import mean_squared_error, r2_score\n",
        "from sklearn.model_selection import GridSearchCV\n",
        "import joblib"
      ],
      "metadata": {
        "colab": {
          "base_uri": "https://localhost:8080/"
        },
        "id": "pSZLW1jSlz7d",
        "outputId": "36be3a56-3821-4eed-9d56-bbee58d5bdc0"
      },
      "execution_count": null,
      "outputs": [
        {
          "output_type": "stream",
          "name": "stderr",
          "text": [
            "/usr/local/lib/python3.10/dist-packages/dask/dataframe/__init__.py:42: FutureWarning: \n",
            "Dask dataframe query planning is disabled because dask-expr is not installed.\n",
            "\n",
            "You can install it with `pip install dask[dataframe]` or `conda install dask`.\n",
            "This will raise in a future version.\n",
            "\n",
            "  warnings.warn(msg, FutureWarning)\n"
          ]
        }
      ]
    },
    {
      "cell_type": "code",
      "source": [
        "# 데이터 로드\n",
        "data = augmented_df\n",
        "\n",
        "# 필요 없는 열 제거 (예: 'game_tag')\n",
        "data = data.drop(columns=['game_tag', 'player_id'])\n",
        "\n",
        "# 결측치 처리 (필요한 경우)\n",
        "data = data.fillna(data.mean())\n",
        "\n",
        "# 특성(X)와 타깃(y) 분리\n",
        "X = data.drop(columns=['평균자책점'])\n",
        "y = data['평균자책점']\n",
        "\n",
        "# 데이터 분할\n",
        "X_train, X_test, y_train, y_test = train_test_split(X, y, test_size=0.2, random_state=42)\n",
        "\n",
        "# LightGBM 모델 초기화 및 학습\n",
        "model = lgb.LGBMRegressor(random_state=42)\n",
        "model.fit(X_train, y_train)\n",
        "\n",
        "# 모델 평가\n",
        "y_pred = model.predict(X_test)\n",
        "mse = mean_squared_error(y_test, y_pred)\n",
        "r2 = r2_score(y_test, y_pred)\n",
        "print(f'Mean Squared Error: {mse}')\n",
        "print(f'R^2 Score: {r2}')\n",
        "\n",
        "# 모델 튜닝\n",
        "param_grid = {\n",
        "    'num_leaves': [31, 50, 100],\n",
        "    'learning_rate': [0.01, 0.05, 0.1],\n",
        "    'n_estimators': [100, 200, 500]\n",
        "}\n",
        "grid_search = GridSearchCV(estimator=model, param_grid=param_grid, cv=3, n_jobs=-1, verbose=2)\n",
        "grid_search.fit(X_train, y_train)\n",
        "best_model_lgb = grid_search.best_estimator_\n",
        "\n",
        "# 최적의 모델 평가\n",
        "y_pred_best = best_model_lgb.predict(X_test)\n",
        "mse_best = mean_squared_error(y_test, y_pred_best)\n",
        "r2_best = r2_score(y_test, y_pred_best)\n",
        "print(f'Best Mean Squared Error: {mse_best}')\n",
        "print(f'Best R^2 Score: {r2_best}')\n",
        "\n",
        "# 모델 저장\n",
        "joblib.dump(best_model, 'best_model_lgb.pkl')\n"
      ],
      "metadata": {
        "colab": {
          "base_uri": "https://localhost:8080/"
        },
        "id": "xTuKVhA8lz5k",
        "outputId": "1c909597-4f5c-412d-f22a-c9776406a5b9"
      },
      "execution_count": null,
      "outputs": [
        {
          "output_type": "stream",
          "name": "stdout",
          "text": [
            "[LightGBM] [Info] Auto-choosing col-wise multi-threading, the overhead of testing was 0.000631 seconds.\n",
            "You can set `force_col_wise=true` to remove the overhead.\n",
            "[LightGBM] [Info] Total Bins 2184\n",
            "[LightGBM] [Info] Number of data points in the train set: 5436, number of used features: 9\n",
            "[LightGBM] [Info] Start training from score 3.681200\n",
            "Mean Squared Error: 2.586324431665214\n",
            "R^2 Score: 0.9286751988272454\n",
            "Fitting 3 folds for each of 27 candidates, totalling 81 fits\n",
            "[LightGBM] [Info] Auto-choosing col-wise multi-threading, the overhead of testing was 0.000559 seconds.\n",
            "You can set `force_col_wise=true` to remove the overhead.\n",
            "[LightGBM] [Info] Total Bins 2184\n",
            "[LightGBM] [Info] Number of data points in the train set: 5436, number of used features: 9\n",
            "[LightGBM] [Info] Start training from score 3.681200\n",
            "Best Mean Squared Error: 1.4103718620296362\n",
            "Best R^2 Score: 0.9611052304933981\n"
          ]
        },
        {
          "output_type": "execute_result",
          "data": {
            "text/plain": [
              "['best_model_lgb.pkl']"
            ]
          },
          "metadata": {},
          "execution_count": 25
        }
      ]
    },
    {
      "cell_type": "code",
      "source": [
        "import lightgbm as lgb\n",
        "from sklearn.model_selection import cross_val_score\n",
        "from sklearn.metrics import r2_score, mean_squared_error\n",
        "import numpy as np\n",
        "import matplotlib.pyplot as plt\n",
        "import seaborn as sns\n",
        "\n",
        "# LightGBM 모델\n",
        "#lgb_model = lgb.LGBMRegressor(random_state=42)\n",
        "\n",
        "# 교차 검증\n",
        "cv_scores_lgb = cross_val_score(best_model_lgb, X, y, cv=5, scoring='r2')\n",
        "\n",
        "# 모델 훈련\n",
        "#lgb_model.fit(X_train, y_train)\n",
        "y_pred_lgb = best_model_lgb.predict(X_test)\n",
        "\n",
        "# 모델 평가\n",
        "r2_lgb = r2_score(y_test, y_pred_lgb)\n",
        "mse_lgb = mean_squared_error(y_test, y_pred_lgb)\n",
        "\n",
        "print(f'LightGBM 모델 - R^2: {r2_lgb:.4f}, MSE: {mse_lgb:.4f}')\n",
        "print(f'LightGBM 모델 - Cross-Validation R^2: {cv_scores_lgb.mean():.4f}')\n",
        "\n",
        "# 잔차 계산\n",
        "residuals_lgb = y_test - y_pred_lgb\n",
        "\n",
        "# 잔차 분포 시각화\n",
        "plt.figure(figsize=(10, 6))\n",
        "sns.histplot(residuals_lgb, kde=True)\n",
        "plt.title('LightGBM best model''s Residuals Distribution')\n",
        "plt.xlabel('Residuals')\n",
        "plt.ylabel('Frequency')\n",
        "plt.show()\n",
        "\n",
        "# 잔차의 평균과 분산 확인\n",
        "print(f'LightGBM 모델 잔차의 평균: {np.mean(residuals_lgb):.4f}')\n",
        "print(f'LightGBM 모델 잔차의 분산: {np.var(residuals_lgb):.4f}')\n"
      ],
      "metadata": {
        "colab": {
          "base_uri": "https://localhost:8080/",
          "height": 1000
        },
        "id": "EHZqAugNl_MO",
        "outputId": "2f3c528e-3a82-4218-d6ef-ab22bc55b77c"
      },
      "execution_count": null,
      "outputs": [
        {
          "output_type": "stream",
          "name": "stdout",
          "text": [
            "[LightGBM] [Info] Auto-choosing col-wise multi-threading, the overhead of testing was 0.000533 seconds.\n",
            "You can set `force_col_wise=true` to remove the overhead.\n",
            "[LightGBM] [Info] Total Bins 2187\n",
            "[LightGBM] [Info] Number of data points in the train set: 5436, number of used features: 9\n",
            "[LightGBM] [Info] Start training from score 3.639197\n",
            "[LightGBM] [Info] Auto-choosing col-wise multi-threading, the overhead of testing was 0.001031 seconds.\n",
            "You can set `force_col_wise=true` to remove the overhead.\n",
            "[LightGBM] [Info] Total Bins 2187\n",
            "[LightGBM] [Info] Number of data points in the train set: 5436, number of used features: 9\n",
            "[LightGBM] [Info] Start training from score 3.649184\n",
            "[LightGBM] [Info] Auto-choosing col-wise multi-threading, the overhead of testing was 0.000852 seconds.\n",
            "You can set `force_col_wise=true` to remove the overhead.\n",
            "[LightGBM] [Info] Total Bins 2187\n",
            "[LightGBM] [Info] Number of data points in the train set: 5436, number of used features: 9\n",
            "[LightGBM] [Info] Start training from score 3.650604\n",
            "[LightGBM] [Info] Auto-choosing col-wise multi-threading, the overhead of testing was 0.000863 seconds.\n",
            "You can set `force_col_wise=true` to remove the overhead.\n",
            "[LightGBM] [Info] Total Bins 2187\n",
            "[LightGBM] [Info] Number of data points in the train set: 5436, number of used features: 9\n",
            "[LightGBM] [Info] Start training from score 3.642350\n",
            "[LightGBM] [Info] Auto-choosing col-wise multi-threading, the overhead of testing was 0.000897 seconds.\n",
            "You can set `force_col_wise=true` to remove the overhead.\n",
            "[LightGBM] [Info] Total Bins 2187\n",
            "[LightGBM] [Info] Number of data points in the train set: 5436, number of used features: 9\n",
            "[LightGBM] [Info] Start training from score 3.640598\n",
            "LightGBM 모델 - R^2: 0.9611, MSE: 1.4104\n",
            "LightGBM 모델 - Cross-Validation R^2: 0.9746\n"
          ]
        },
        {
          "output_type": "display_data",
          "data": {
            "text/plain": [
              "<Figure size 1000x600 with 1 Axes>"
            ],
            "image/png": "[encoded data removed]"
          },
          "metadata": {}
        },
        {
          "output_type": "stream",
          "name": "stdout",
          "text": [
            "LightGBM 모델 잔차의 평균: -0.0015\n",
            "LightGBM 모델 잔차의 분산: 1.4104\n"
          ]
        }
      ]
    },
    {
      "cell_type": "markdown",
      "source": [
        "LightGBM의 경우 학습 및 테스팅 성능은 가장 뛰어났다. 또한 잔차 플롯의 평균과 분산도 가장 낮았다. 다만 앞서 XGBoost와 유사하게, 잔차가 큰 값이 소량 존재하는 것으로 확인 되었다."
      ],
      "metadata": {
        "id": "mhPFMhLsMBym"
      }
    },
    {
      "cell_type": "code",
      "source": [
        "import matplotlib.pyplot as plt\n",
        "\n",
        "# 피처 중요도 출력\n",
        "feature_importances_with_std = best_model_lgb.feature_importances_\n",
        "features_with_std = X.columns\n",
        "\n",
        "feature_importance_with_std_df = pd.DataFrame({'Feature': features_with_std, 'Importance': feature_importances_with_std})\n",
        "\n",
        "print(\"\\n표준편차 포함 모델 피처 중요도:\")\n",
        "print(feature_importance_with_std_df.sort_values(by='Importance', ascending=False))"
      ],
      "metadata": {
        "colab": {
          "base_uri": "https://localhost:8080/"
        },
        "id": "203HqiqFzSSu",
        "outputId": "a7574dad-0c6a-4670-b02e-46a4d481178b"
      },
      "execution_count": null,
      "outputs": [
        {
          "output_type": "stream",
          "name": "stdout",
          "text": [
            "\n",
            "표준편차 포함 모델 피처 중요도:\n",
            "      Feature  Importance\n",
            "3        WHIP        4216\n",
            "2         탈삼진        3605\n",
            "0         피안타        3219\n",
            "1         4사구        3144\n",
            "4  평균자책점_표준편차        3033\n",
            "8   WHIP_표준편차        2392\n",
            "6    4사구_표준편차        1700\n",
            "5    피안타_표준편차        1596\n",
            "7    탈삼진_표준편차        1595\n"
          ]
        }
      ]
    },
    {
      "cell_type": "markdown",
      "source": [
        "LightGBM의 경우 WHIP과 탈삼진을 bin을 나누는데 자주 사용했음을 확인할 수 있었다."
      ],
      "metadata": {
        "id": "VLFcOUCQML4d"
      }
    },
    {
      "cell_type": "markdown",
      "source": [
        "# Linear Regression"
      ],
      "metadata": {
        "id": "Mkq3OTy9mCvL"
      }
    },
    {
      "cell_type": "code",
      "source": [
        "from sklearn.linear_model import LinearRegression\n",
        "from sklearn.model_selection import train_test_split\n",
        "from sklearn.metrics import mean_squared_error, r2_score\n",
        "import joblib\n",
        "\n",
        "# 데이터 로드\n",
        "data = augmented_df\n",
        "\n",
        "# 필요 없는 열 제거 (예: 'game_tag')\n",
        "data = data.drop(columns=['player_id', 'game_tag'])\n",
        "\n",
        "# 결측치 처리 (필요한 경우)\n",
        "data = data.fillna(data.mean())\n",
        "\n",
        "# 특성(X)와 타깃(y) 분리\n",
        "X = data.drop(columns=['평균자책점'])\n",
        "y = data['평균자책점']\n",
        "\n",
        "# 데이터 분할\n",
        "X_train, X_test, y_train, y_test = train_test_split(X, y, test_size=0.2, random_state=42)\n",
        "\n",
        "# 선형 회귀 모델 초기화 및 학습\n",
        "model_lr = LinearRegression()\n",
        "model_lr.fit(X_train, y_train)\n",
        "\n",
        "# 모델 평가\n",
        "y_pred = model_lr.predict(X_test)\n",
        "mse = mean_squared_error(y_test, y_pred)\n",
        "r2 = r2_score(y_test, y_pred)\n",
        "print(f'Mean Squared Error: {mse}')\n",
        "print(f'R^2 Score: {r2}')\n",
        "\n",
        "# 모델 저장\n",
        "joblib.dump(model_lr, 'linear_regression_model.pkl')\n"
      ],
      "metadata": {
        "colab": {
          "base_uri": "https://localhost:8080/"
        },
        "id": "LQIf6wkdmD9g",
        "outputId": "bcd660a8-2c9f-4c36-9264-d9d2384935f7"
      },
      "execution_count": null,
      "outputs": [
        {
          "output_type": "stream",
          "name": "stdout",
          "text": [
            "Mean Squared Error: 11.778397389080487\n",
            "R^2 Score: 0.6751792460279384\n"
          ]
        },
        {
          "output_type": "execute_result",
          "data": {
            "text/plain": [
              "['linear_regression_model.pkl']"
            ]
          },
          "metadata": {},
          "execution_count": 34
        }
      ]
    },
    {
      "cell_type": "code",
      "source": [
        "# 선형 회귀 모델\n",
        "#linear_model = LinearRegression()\n",
        "\n",
        "# 교차 검증\n",
        "cv_scores_linear = cross_val_score(model_lr, X, y, cv=5, scoring='r2')\n",
        "\n",
        "\n",
        "# 모델 평가\n",
        "r2_linear = r2_score(y_test, y_pred)\n",
        "mse_linear = mean_squared_error(y_test, y_pred)\n",
        "\n",
        "print(f'Linear Regression 모델 - R^2: {r2_linear:.4f}, MSE: {mse_linear:.4f}')\n",
        "print(f'Linear Regression 모델 - Cross-Validation R^2: {cv_scores_linear.mean():.4f}')\n",
        "\n",
        "# 잔차 계산\n",
        "residuals_linear = y_test - y_pred\n",
        "\n",
        "# 잔차 분포 시각화\n",
        "plt.figure(figsize=(10, 5))\n",
        "sns.histplot(residuals_linear, kde=True)\n",
        "plt.title(\"Linear Regression Model's Residuals Distribution\")\n",
        "plt.xlabel('Residuals')\n",
        "plt.ylabel('Frequency')\n",
        "plt.show()\n",
        "\n",
        "# 잔차의 평균과 분산 확인\n",
        "print(f'Linear Regression 모델 잔차의 평균: {np.mean(residuals_linear):.4f}')\n",
        "print(f'Linear Regression 모델 잔차의 분산: {np.var(residuals_linear):.4f}')\n"
      ],
      "metadata": {
        "colab": {
          "base_uri": "https://localhost:8080/",
          "height": 558
        },
        "id": "3oJKRmc0LKHh",
        "outputId": "30900182-5eca-471d-c4cf-633f7b00dc8d"
      },
      "execution_count": null,
      "outputs": [
        {
          "output_type": "stream",
          "name": "stdout",
          "text": [
            "Linear Regression 모델 - R^2: 0.6752, MSE: 11.7784\n",
            "Linear Regression 모델 - Cross-Validation R^2: 0.6907\n"
          ]
        },
        {
          "output_type": "display_data",
          "data": {
            "text/plain": [
              "<Figure size 1000x500 with 1 Axes>"
            ],
            "image/png": "[encoded data removed]"
          },
          "metadata": {}
        },
        {
          "output_type": "stream",
          "name": "stdout",
          "text": [
            "Linear Regression 모델 잔차의 평균: -0.1609\n",
            "Linear Regression 모델 잔차의 분산: 11.7525\n"
          ]
        }
      ]
    },
    {
      "cell_type": "markdown",
      "source": [
        "야수 모델에서도 그러했듯, 투수 모델에서도 선형 회귀는 성적 지표가 앙상블 기법에 비해서 떨어짐을 확인할 수 있었다. 따라서 선형 회귀는 야구 데이터의 비선형적 패턴을 적절히 학습하기에 어려움이 있다 판단할 수 있었다."
      ],
      "metadata": {
        "id": "MGFv1H5aMTlP"
      }
    },
    {
      "cell_type": "code",
      "source": [
        "import matplotlib.pyplot as plt\n",
        "import seaborn as sns\n",
        "\n",
        "fig, axes = plt.subplots(2, 2, figsize=(14, 10))  # 2행 2열의 서브플롯 생성\n",
        "models = ['Random Forest', 'LightGBM', 'XGBoost', 'Linear Regression']\n",
        "residuals = [residuals, residuals_lgb, residuals_xgb, residuals_linear]\n",
        "\n",
        "for i, ax in enumerate(axes.flat):\n",
        "    sns.histplot(residuals[i], kde=True, ax=ax)\n",
        "    ax.set_title(f'{models[i]} Residuals Distribution')\n",
        "    ax.set_xlabel('Residuals')\n",
        "    ax.set_ylabel('Frequency')\n",
        "\n",
        "plt.tight_layout()\n",
        "plt.show()"
      ],
      "metadata": {
        "colab": {
          "base_uri": "https://localhost:8080/",
          "height": 1000
        },
        "id": "Bl81Z6qvtWMM",
        "outputId": "c53d727c-ca1e-46ff-ae00-dd8ed7013673"
      },
      "execution_count": null,
      "outputs": [
        {
          "output_type": "display_data",
          "data": {
            "text/plain": [
              "<Figure size 1400x1000 with 4 Axes>"
            ],
            "image/png": "[encoded data removed]"
          },
          "metadata": {}
        }
      ]
    },
    {
      "cell_type": "markdown",
      "source": [
        "# 테스트 섹션\n"
      ],
      "metadata": {
        "id": "4PLTEdaHYRhI"
      }
    },
    {
      "cell_type": "code",
      "source": [
        "import pandas as pd\n",
        "\n",
        "# 엑셀 파일 불러오기\n",
        "data = pd.read_excel(\"/content/2022 KBO 신인 드래프트.xlsx\", sheet_name = \"테스트용_최준호\")\n",
        "\n",
        "# 데이터 확인\n",
        "data.head(10)"
      ],
      "metadata": {
        "id": "hz5vIBcdY5ka",
        "colab": {
          "base_uri": "https://localhost:8080/",
          "height": 300
        },
        "outputId": "49d3acf8-6497-4e1d-dc15-fc1c04f03895"
      },
      "execution_count": null,
      "outputs": [
        {
          "output_type": "execute_result",
          "data": {
            "text/plain": [
              "   player_id  game_tag  평균자책점  경기수  승  패    이닝   타자  피안타  피홈런  4사구  탈삼진  실점  \\\n",
              "0          1  2022년_통산   1.50   22  3  2  54.0  217   29    1   16   69  15   \n",
              "1          1      이마트배   0.00    5  1  0  15.0   48    2    0    2   18   0   \n",
              "2          1  주말리그_전반기   4.50    2  0  0   6.1   27    6    1    2    8   3   \n",
              "3          1     황금사자기   0.00    4  0  0   6.1   25    3    0    0    9   2   \n",
              "4          1  주말리그_후반기   0.00    3  0  0   3.2   10    0    0    0    3   0   \n",
              "5          1      대통령배   6.75    1  0  1   3.2   17    7    0    0    3   3   \n",
              "6          1      봉황대기   1.93    5  2  0  14.1   68    8    0   10   22   6   \n",
              "7          1    전국체육대회   0.00    2  0  1   4.2   22    3    0    2    6   1   \n",
              "\n",
              "   자책점   승률  WHIP    키  몸무게  \n",
              "0    9  0.6  0.83  188   90  \n",
              "1    0  1.0  0.20  188   90  \n",
              "2    3  0.0  1.33  188   90  \n",
              "3    0  0.0  0.67  188   90  \n",
              "4    0  0.0  0.00  188   90  \n",
              "5    3  0.0  2.00  188   90  \n",
              "6    3  1.0  1.29  188   90  \n",
              "7    0  0.0  0.80  188   90  "
            ],
            "text/html": [
              "\n",
              "  <div id=\"df-ac075599-a875-48c2-aaea-1e82685a83ba\" class=\"colab-df-container\">\n",
              "    <div>\n",
              "<style scoped>\n",
              "    .dataframe tbody tr th:only-of-type {\n",
              "        vertical-align: middle;\n",
              "    }\n",
              "\n",
              "    .dataframe tbody tr th {\n",
              "        vertical-align: top;\n",
              "    }\n",
              "\n",
              "    .dataframe thead th {\n",
              "        text-align: right;\n",
              "    }\n",
              "</style>\n",
              "<table border=\"1\" class=\"dataframe\">\n",
              "  <thead>\n",
              "    <tr style=\"text-align: right;\">\n",
              "      <th></th>\n",
              "      <th>player_id</th>\n",
              "      <th>game_tag</th>\n",
              "      <th>평균자책점</th>\n",
              "      <th>경기수</th>\n",
              "      <th>승</th>\n",
              "      <th>패</th>\n",
              "      <th>이닝</th>\n",
              "      <th>타자</th>\n",
              "      <th>피안타</th>\n",
              "      <th>피홈런</th>\n",
              "      <th>4사구</th>\n",
              "      <th>탈삼진</th>\n",
              "      <th>실점</th>\n",
              "      <th>자책점</th>\n",
              "      <th>승률</th>\n",
              "      <th>WHIP</th>\n",
              "      <th>키</th>\n",
              "      <th>몸무게</th>\n",
              "    </tr>\n",
              "  </thead>\n",
              "  <tbody>\n",
              "    <tr>\n",
              "      <th>0</th>\n",
              "      <td>1</td>\n",
              "      <td>2022년_통산</td>\n",
              "      <td>1.50</td>\n",
              "      <td>22</td>\n",
              "      <td>3</td>\n",
              "      <td>2</td>\n",
              "      <td>54.0</td>\n",
              "      <td>217</td>\n",
              "      <td>29</td>\n",
              "      <td>1</td>\n",
              "      <td>16</td>\n",
              "      <td>69</td>\n",
              "      <td>15</td>\n",
              "      <td>9</td>\n",
              "      <td>0.6</td>\n",
              "      <td>0.83</td>\n",
              "      <td>188</td>\n",
              "      <td>90</td>\n",
              "    </tr>\n",
              "    <tr>\n",
              "      <th>1</th>\n",
              "      <td>1</td>\n",
              "      <td>이마트배</td>\n",
              "      <td>0.00</td>\n",
              "      <td>5</td>\n",
              "      <td>1</td>\n",
              "      <td>0</td>\n",
              "      <td>15.0</td>\n",
              "      <td>48</td>\n",
              "      <td>2</td>\n",
              "      <td>0</td>\n",
              "      <td>2</td>\n",
              "      <td>18</td>\n",
              "      <td>0</td>\n",
              "      <td>0</td>\n",
              "      <td>1.0</td>\n",
              "      <td>0.20</td>\n",
              "      <td>188</td>\n",
              "      <td>90</td>\n",
              "    </tr>\n",
              "    <tr>\n",
              "      <th>2</th>\n",
              "      <td>1</td>\n",
              "      <td>주말리그_전반기</td>\n",
              "      <td>4.50</td>\n",
              "      <td>2</td>\n",
              "      <td>0</td>\n",
              "      <td>0</td>\n",
              "      <td>6.1</td>\n",
              "      <td>27</td>\n",
              "      <td>6</td>\n",
              "      <td>1</td>\n",
              "      <td>2</td>\n",
              "      <td>8</td>\n",
              "      <td>3</td>\n",
              "      <td>3</td>\n",
              "      <td>0.0</td>\n",
              "      <td>1.33</td>\n",
              "      <td>188</td>\n",
              "      <td>90</td>\n",
              "    </tr>\n",
              "    <tr>\n",
              "      <th>3</th>\n",
              "      <td>1</td>\n",
              "      <td>황금사자기</td>\n",
              "      <td>0.00</td>\n",
              "      <td>4</td>\n",
              "      <td>0</td>\n",
              "      <td>0</td>\n",
              "      <td>6.1</td>\n",
              "      <td>25</td>\n",
              "      <td>3</td>\n",
              "      <td>0</td>\n",
              "      <td>0</td>\n",
              "      <td>9</td>\n",
              "      <td>2</td>\n",
              "      <td>0</td>\n",
              "      <td>0.0</td>\n",
              "      <td>0.67</td>\n",
              "      <td>188</td>\n",
              "      <td>90</td>\n",
              "    </tr>\n",
              "    <tr>\n",
              "      <th>4</th>\n",
              "      <td>1</td>\n",
              "      <td>주말리그_후반기</td>\n",
              "      <td>0.00</td>\n",
              "      <td>3</td>\n",
              "      <td>0</td>\n",
              "      <td>0</td>\n",
              "      <td>3.2</td>\n",
              "      <td>10</td>\n",
              "      <td>0</td>\n",
              "      <td>0</td>\n",
              "      <td>0</td>\n",
              "      <td>3</td>\n",
              "      <td>0</td>\n",
              "      <td>0</td>\n",
              "      <td>0.0</td>\n",
              "      <td>0.00</td>\n",
              "      <td>188</td>\n",
              "      <td>90</td>\n",
              "    </tr>\n",
              "    <tr>\n",
              "      <th>5</th>\n",
              "      <td>1</td>\n",
              "      <td>대통령배</td>\n",
              "      <td>6.75</td>\n",
              "      <td>1</td>\n",
              "      <td>0</td>\n",
              "      <td>1</td>\n",
              "      <td>3.2</td>\n",
              "      <td>17</td>\n",
              "      <td>7</td>\n",
              "      <td>0</td>\n",
              "      <td>0</td>\n",
              "      <td>3</td>\n",
              "      <td>3</td>\n",
              "      <td>3</td>\n",
              "      <td>0.0</td>\n",
              "      <td>2.00</td>\n",
              "      <td>188</td>\n",
              "      <td>90</td>\n",
              "    </tr>\n",
              "    <tr>\n",
              "      <th>6</th>\n",
              "      <td>1</td>\n",
              "      <td>봉황대기</td>\n",
              "      <td>1.93</td>\n",
              "      <td>5</td>\n",
              "      <td>2</td>\n",
              "      <td>0</td>\n",
              "      <td>14.1</td>\n",
              "      <td>68</td>\n",
              "      <td>8</td>\n",
              "      <td>0</td>\n",
              "      <td>10</td>\n",
              "      <td>22</td>\n",
              "      <td>6</td>\n",
              "      <td>3</td>\n",
              "      <td>1.0</td>\n",
              "      <td>1.29</td>\n",
              "      <td>188</td>\n",
              "      <td>90</td>\n",
              "    </tr>\n",
              "    <tr>\n",
              "      <th>7</th>\n",
              "      <td>1</td>\n",
              "      <td>전국체육대회</td>\n",
              "      <td>0.00</td>\n",
              "      <td>2</td>\n",
              "      <td>0</td>\n",
              "      <td>1</td>\n",
              "      <td>4.2</td>\n",
              "      <td>22</td>\n",
              "      <td>3</td>\n",
              "      <td>0</td>\n",
              "      <td>2</td>\n",
              "      <td>6</td>\n",
              "      <td>1</td>\n",
              "      <td>0</td>\n",
              "      <td>0.0</td>\n",
              "      <td>0.80</td>\n",
              "      <td>188</td>\n",
              "      <td>90</td>\n",
              "    </tr>\n",
              "  </tbody>\n",
              "</table>\n",
              "</div>\n",
              "    <div class=\"colab-df-buttons\">\n",
              "\n",
              "  <div class=\"colab-df-container\">\n",
              "    <button class=\"colab-df-convert\" onclick=\"convertToInteractive('df-ac075599-a875-48c2-aaea-1e82685a83ba')\"\n",
              "            title=\"Convert this dataframe to an interactive table.\"\n",
              "            style=\"display:none;\">\n",
              "\n",
              "  <svg xmlns=\"http://www.w3.org/2000/svg\" height=\"24px\" viewBox=\"0 -960 960 960\">\n",
              "    <path d=\"M120-120v-720h720v720H120Zm60-500h600v-160H180v160Zm220 220h160v-160H400v160Zm0 220h160v-160H400v160ZM180-400h160v-160H180v160Zm440 0h160v-160H620v160ZM180-180h160v-160H180v160Zm440 0h160v-160H620v160Z\"/>\n",
              "  </svg>\n",
              "    </button>\n",
              "\n",
              "  <style>\n",
              "    .colab-df-container {\n",
              "      display:flex;\n",
              "      gap: 12px;\n",
              "    }\n",
              "\n",
              "    .colab-df-convert {\n",
              "      background-color: #E8F0FE;\n",
              "      border: none;\n",
              "      border-radius: 50%;\n",
              "      cursor: pointer;\n",
              "      display: none;\n",
              "      fill: #1967D2;\n",
              "      height: 32px;\n",
              "      padding: 0 0 0 0;\n",
              "      width: 32px;\n",
              "    }\n",
              "\n",
              "    .colab-df-convert:hover {\n",
              "      background-color: #E2EBFA;\n",
              "      box-shadow: 0px 1px 2px rgba(60, 64, 67, 0.3), 0px 1px 3px 1px rgba(60, 64, 67, 0.15);\n",
              "      fill: #174EA6;\n",
              "    }\n",
              "\n",
              "    .colab-df-buttons div {\n",
              "      margin-bottom: 4px;\n",
              "    }\n",
              "\n",
              "    [theme=dark] .colab-df-convert {\n",
              "      background-color: #3B4455;\n",
              "      fill: #D2E3FC;\n",
              "    }\n",
              "\n",
              "    [theme=dark] .colab-df-convert:hover {\n",
              "      background-color: #434B5C;\n",
              "      box-shadow: 0px 1px 3px 1px rgba(0, 0, 0, 0.15);\n",
              "      filter: drop-shadow(0px 1px 2px rgba(0, 0, 0, 0.3));\n",
              "      fill: #FFFFFF;\n",
              "    }\n",
              "  </style>\n",
              "\n",
              "    <script>\n",
              "      const buttonEl =\n",
              "        document.querySelector('#df-ac075599-a875-48c2-aaea-1e82685a83ba button.colab-df-convert');\n",
              "      buttonEl.style.display =\n",
              "        google.colab.kernel.accessAllowed ? 'block' : 'none';\n",
              "\n",
              "      async function convertToInteractive(key) {\n",
              "        const element = document.querySelector('#df-ac075599-a875-48c2-aaea-1e82685a83ba');\n",
              "        const dataTable =\n",
              "          await google.colab.kernel.invokeFunction('convertToInteractive',\n",
              "                                                    [key], {});\n",
              "        if (!dataTable) return;\n",
              "\n",
              "        const docLinkHtml = 'Like what you see? Visit the ' +\n",
              "          '<a target=\"_blank\" href=https://colab.research.google.com/notebooks/data_table.ipynb>data table notebook</a>'\n",
              "          + ' to learn more about interactive tables.';\n",
              "        element.innerHTML = '';\n",
              "        dataTable['output_type'] = 'display_data';\n",
              "        await google.colab.output.renderOutput(dataTable, element);\n",
              "        const docLink = document.createElement('div');\n",
              "        docLink.innerHTML = docLinkHtml;\n",
              "        element.appendChild(docLink);\n",
              "      }\n",
              "    </script>\n",
              "  </div>\n",
              "\n",
              "\n",
              "<div id=\"df-8cdc074f-5b4a-4e8a-a688-e8b83c8204f4\">\n",
              "  <button class=\"colab-df-quickchart\" onclick=\"quickchart('df-8cdc074f-5b4a-4e8a-a688-e8b83c8204f4')\"\n",
              "            title=\"Suggest charts\"\n",
              "            style=\"display:none;\">\n",
              "\n",
              "<svg xmlns=\"http://www.w3.org/2000/svg\" height=\"24px\"viewBox=\"0 0 24 24\"\n",
              "     width=\"24px\">\n",
              "    <g>\n",
              "        <path d=\"M19 3H5c-1.1 0-2 .9-2 2v14c0 1.1.9 2 2 2h14c1.1 0 2-.9 2-2V5c0-1.1-.9-2-2-2zM9 17H7v-7h2v7zm4 0h-2V7h2v10zm4 0h-2v-4h2v4z\"/>\n",
              "    </g>\n",
              "</svg>\n",
              "  </button>\n",
              "\n",
              "<style>\n",
              "  .colab-df-quickchart {\n",
              "      --bg-color: #E8F0FE;\n",
              "      --fill-color: #1967D2;\n",
              "      --hover-bg-color: #E2EBFA;\n",
              "      --hover-fill-color: #174EA6;\n",
              "      --disabled-fill-color: #AAA;\n",
              "      --disabled-bg-color: #DDD;\n",
              "  }\n",
              "\n",
              "  [theme=dark] .colab-df-quickchart {\n",
              "      --bg-color: #3B4455;\n",
              "      --fill-color: #D2E3FC;\n",
              "      --hover-bg-color: #434B5C;\n",
              "      --hover-fill-color: #FFFFFF;\n",
              "      --disabled-bg-color: #3B4455;\n",
              "      --disabled-fill-color: #666;\n",
              "  }\n",
              "\n",
              "  .colab-df-quickchart {\n",
              "    background-color: var(--bg-color);\n",
              "    border: none;\n",
              "    border-radius: 50%;\n",
              "    cursor: pointer;\n",
              "    display: none;\n",
              "    fill: var(--fill-color);\n",
              "    height: 32px;\n",
              "    padding: 0;\n",
              "    width: 32px;\n",
              "  }\n",
              "\n",
              "  .colab-df-quickchart:hover {\n",
              "    background-color: var(--hover-bg-color);\n",
              "    box-shadow: 0 1px 2px rgba(60, 64, 67, 0.3), 0 1px 3px 1px rgba(60, 64, 67, 0.15);\n",
              "    fill: var(--button-hover-fill-color);\n",
              "  }\n",
              "\n",
              "  .colab-df-quickchart-complete:disabled,\n",
              "  .colab-df-quickchart-complete:disabled:hover {\n",
              "    background-color: var(--disabled-bg-color);\n",
              "    fill: var(--disabled-fill-color);\n",
              "    box-shadow: none;\n",
              "  }\n",
              "\n",
              "  .colab-df-spinner {\n",
              "    border: 2px solid var(--fill-color);\n",
              "    border-color: transparent;\n",
              "    border-bottom-color: var(--fill-color);\n",
              "    animation:\n",
              "      spin 1s steps(1) infinite;\n",
              "  }\n",
              "\n",
              "  @keyframes spin {\n",
              "    0% {\n",
              "      border-color: transparent;\n",
              "      border-bottom-color: var(--fill-color);\n",
              "      border-left-color: var(--fill-color);\n",
              "    }\n",
              "    20% {\n",
              "      border-color: transparent;\n",
              "      border-left-color: var(--fill-color);\n",
              "      border-top-color: var(--fill-color);\n",
              "    }\n",
              "    30% {\n",
              "      border-color: transparent;\n",
              "      border-left-color: var(--fill-color);\n",
              "      border-top-color: var(--fill-color);\n",
              "      border-right-color: var(--fill-color);\n",
              "    }\n",
              "    40% {\n",
              "      border-color: transparent;\n",
              "      border-right-color: var(--fill-color);\n",
              "      border-top-color: var(--fill-color);\n",
              "    }\n",
              "    60% {\n",
              "      border-color: transparent;\n",
              "      border-right-color: var(--fill-color);\n",
              "    }\n",
              "    80% {\n",
              "      border-color: transparent;\n",
              "      border-right-color: var(--fill-color);\n",
              "      border-bottom-color: var(--fill-color);\n",
              "    }\n",
              "    90% {\n",
              "      border-color: transparent;\n",
              "      border-bottom-color: var(--fill-color);\n",
              "    }\n",
              "  }\n",
              "</style>\n",
              "\n",
              "  <script>\n",
              "    async function quickchart(key) {\n",
              "      const quickchartButtonEl =\n",
              "        document.querySelector('#' + key + ' button');\n",
              "      quickchartButtonEl.disabled = true;  // To prevent multiple clicks.\n",
              "      quickchartButtonEl.classList.add('colab-df-spinner');\n",
              "      try {\n",
              "        const charts = await google.colab.kernel.invokeFunction(\n",
              "            'suggestCharts', [key], {});\n",
              "      } catch (error) {\n",
              "        console.error('Error during call to suggestCharts:', error);\n",
              "      }\n",
              "      quickchartButtonEl.classList.remove('colab-df-spinner');\n",
              "      quickchartButtonEl.classList.add('colab-df-quickchart-complete');\n",
              "    }\n",
              "    (() => {\n",
              "      let quickchartButtonEl =\n",
              "        document.querySelector('#df-8cdc074f-5b4a-4e8a-a688-e8b83c8204f4 button');\n",
              "      quickchartButtonEl.style.display =\n",
              "        google.colab.kernel.accessAllowed ? 'block' : 'none';\n",
              "    })();\n",
              "  </script>\n",
              "</div>\n",
              "\n",
              "    </div>\n",
              "  </div>\n"
            ],
            "application/vnd.google.colaboratory.intrinsic+json": {
              "type": "dataframe",
              "variable_name": "data",
              "summary": "{\n  \"name\": \"data\",\n  \"rows\": 8,\n  \"fields\": [\n    {\n      \"column\": \"player_id\",\n      \"properties\": {\n        \"dtype\": \"number\",\n        \"std\": 0,\n        \"min\": 1,\n        \"max\": 1,\n        \"num_unique_values\": 1,\n        \"samples\": [\n          1\n        ],\n        \"semantic_type\": \"\",\n        \"description\": \"\"\n      }\n    },\n    {\n      \"column\": \"game_tag\",\n      \"properties\": {\n        \"dtype\": \"string\",\n        \"num_unique_values\": 8,\n        \"samples\": [\n          \"\\uc774\\ub9c8\\ud2b8\\ubc30\"\n        ],\n        \"semantic_type\": \"\",\n        \"description\": \"\"\n      }\n    },\n    {\n      \"column\": \"\\ud3c9\\uade0\\uc790\\ucc45\\uc810\",\n      \"properties\": {\n        \"dtype\": \"number\",\n        \"std\": 2.5312221779776096,\n        \"min\": 0.0,\n        \"max\": 6.75,\n        \"num_unique_values\": 5,\n        \"samples\": [\n          0.0\n        ],\n        \"semantic_type\": \"\",\n        \"description\": \"\"\n      }\n    },\n    {\n      \"column\": \"\\uacbd\\uae30\\uc218\",\n      \"properties\": {\n        \"dtype\": \"number\",\n        \"std\": 6,\n        \"min\": 1,\n        \"max\": 22,\n        \"num_unique_values\": 6,\n        \"samples\": [\n          22\n        ],\n        \"semantic_type\": \"\",\n        \"description\": \"\"\n      }\n    },\n    {\n      \"column\": \"\\uc2b9\",\n      \"properties\": {\n        \"dtype\": \"number\",\n        \"std\": 1,\n        \"min\": 0,\n        \"max\": 3,\n        \"num_unique_values\": 4,\n        \"samples\": [\n          1\n        ],\n        \"semantic_type\": \"\",\n        \"description\": \"\"\n      }\n    },\n    {\n      \"column\": \"\\ud328\",\n      \"properties\": {\n        \"dtype\": \"number\",\n        \"std\": 0,\n        \"min\": 0,\n        \"max\": 2,\n        \"num_unique_values\": 3,\n        \"samples\": [\n          2\n        ],\n        \"semantic_type\": \"\",\n        \"description\": \"\"\n      }\n    },\n    {\n      \"column\": \"\\uc774\\ub2dd\",\n      \"properties\": {\n        \"dtype\": \"number\",\n        \"std\": 17.115150973834353,\n        \"min\": 3.2,\n        \"max\": 54.0,\n        \"num_unique_values\": 6,\n        \"samples\": [\n          54.0\n        ],\n        \"semantic_type\": \"\",\n        \"description\": \"\"\n      }\n    },\n    {\n      \"column\": \"\\ud0c0\\uc790\",\n      \"properties\": {\n        \"dtype\": \"number\",\n        \"std\": 68,\n        \"min\": 10,\n        \"max\": 217,\n        \"num_unique_values\": 8,\n        \"samples\": [\n          48\n        ],\n        \"semantic_type\": \"\",\n        \"description\": \"\"\n      }\n    },\n    {\n      \"column\": \"\\ud53c\\uc548\\ud0c0\",\n      \"properties\": {\n        \"dtype\": \"number\",\n        \"std\": 9,\n        \"min\": 0,\n        \"max\": 29,\n        \"num_unique_values\": 7,\n        \"samples\": [\n          29\n        ],\n        \"semantic_type\": \"\",\n        \"description\": \"\"\n      }\n    },\n    {\n      \"column\": \"\\ud53c\\ud648\\ub7f0\",\n      \"properties\": {\n        \"dtype\": \"number\",\n        \"std\": 0,\n        \"min\": 0,\n        \"max\": 1,\n        \"num_unique_values\": 2,\n        \"samples\": [\n          0\n        ],\n        \"semantic_type\": \"\",\n        \"description\": \"\"\n      }\n    },\n    {\n      \"column\": \"4\\uc0ac\\uad6c\",\n      \"properties\": {\n        \"dtype\": \"number\",\n        \"std\": 5,\n        \"min\": 0,\n        \"max\": 16,\n        \"num_unique_values\": 4,\n        \"samples\": [\n          2\n        ],\n        \"semantic_type\": \"\",\n        \"description\": \"\"\n      }\n    },\n    {\n      \"column\": \"\\ud0c8\\uc0bc\\uc9c4\",\n      \"properties\": {\n        \"dtype\": \"number\",\n        \"std\": 21,\n        \"min\": 3,\n        \"max\": 69,\n        \"num_unique_values\": 7,\n        \"samples\": [\n          69\n        ],\n        \"semantic_type\": \"\",\n        \"description\": \"\"\n      }\n    },\n    {\n      \"column\": \"\\uc2e4\\uc810\",\n      \"properties\": {\n        \"dtype\": \"number\",\n        \"std\": 4,\n        \"min\": 0,\n        \"max\": 15,\n        \"num_unique_values\": 6,\n        \"samples\": [\n          15\n        ],\n        \"semantic_type\": \"\",\n        \"description\": \"\"\n      }\n    },\n    {\n      \"column\": \"\\uc790\\ucc45\\uc810\",\n      \"properties\": {\n        \"dtype\": \"number\",\n        \"std\": 3,\n        \"min\": 0,\n        \"max\": 9,\n        \"num_unique_values\": 3,\n        \"samples\": [\n          9\n        ],\n        \"semantic_type\": \"\",\n        \"description\": \"\"\n      }\n    },\n    {\n      \"column\": \"\\uc2b9\\ub960\",\n      \"properties\": {\n        \"dtype\": \"number\",\n        \"std\": 0.46521884251239376,\n        \"min\": 0.0,\n        \"max\": 1.0,\n        \"num_unique_values\": 3,\n        \"samples\": [\n          0.6\n        ],\n        \"semantic_type\": \"\",\n        \"description\": \"\"\n      }\n    },\n    {\n      \"column\": \"WHIP\",\n      \"properties\": {\n        \"dtype\": \"number\",\n        \"std\": 0.6452020724437533,\n        \"min\": 0.0,\n        \"max\": 2.0,\n        \"num_unique_values\": 8,\n        \"samples\": [\n          0.2\n        ],\n        \"semantic_type\": \"\",\n        \"description\": \"\"\n      }\n    },\n    {\n      \"column\": \"\\ud0a4\",\n      \"properties\": {\n        \"dtype\": \"number\",\n        \"std\": 0,\n        \"min\": 188,\n        \"max\": 188,\n        \"num_unique_values\": 1,\n        \"samples\": [\n          188\n        ],\n        \"semantic_type\": \"\",\n        \"description\": \"\"\n      }\n    },\n    {\n      \"column\": \"\\ubab8\\ubb34\\uac8c\",\n      \"properties\": {\n        \"dtype\": \"number\",\n        \"std\": 0,\n        \"min\": 90,\n        \"max\": 90,\n        \"num_unique_values\": 1,\n        \"samples\": [\n          90\n        ],\n        \"semantic_type\": \"\",\n        \"description\": \"\"\n      }\n    }\n  ]\n}"
            }
          },
          "metadata": {},
          "execution_count": 47
        }
      ]
    },
    {
      "cell_type": "code",
      "source": [
        "# 필요한 열 선택 (예: player_id, game_id, 성적 지표 등)\n",
        "data_without_first_row = data.iloc[1:]\n",
        "data = data[['player_id', '평균자책점', '피안타', '4사구', '탈삼진', 'WHIP', '키', '몸무게']]\n",
        "\n",
        "# 필요한 열 선택 (예: player_id, game_tag, 성적 지표 등)\n",
        "data_selected = data_without_first_row[['player_id', '평균자책점', '피안타', '4사구', '탈삼진', 'WHIP', '키', '몸무게']]\n",
        "\n",
        "# 선수별로 그룹화하여 표준편차 계산\n",
        "player_stats_std = data_selected.groupby('player_id').agg({\n",
        "    '평균자책점': 'std',\n",
        "    '피안타': 'std',\n",
        "    '4사구': 'std',\n",
        "    '탈삼진': 'std',\n",
        "    'WHIP': 'std',\n",
        "}).reset_index()\n",
        "\n",
        "# 컬럼 이름 변경\n",
        "player_stats_std.columns = ['player_id', '평균자책점_표준편차', '피안타_표준편차', '4사구_표준편차', '탈삼진_표준편차', 'WHIP_표준편차']\n",
        "\n",
        "# 결과 확인\n",
        "print(player_stats_std)\n"
      ],
      "metadata": {
        "colab": {
          "base_uri": "https://localhost:8080/"
        },
        "id": "se90KfB4YXVh",
        "outputId": "b60100cc-825e-4e8b-b7a3-e13cc1287298"
      },
      "execution_count": null,
      "outputs": [
        {
          "output_type": "stream",
          "name": "stdout",
          "text": [
            "   player_id  평균자책점_표준편차  피안타_표준편차  4사구_표준편차  탈삼진_표준편차  WHIP_표준편차\n",
            "0          1     2.73012   2.91139  3.545621  7.380799   0.696406\n"
          ]
        }
      ]
    },
    {
      "cell_type": "code",
      "source": [
        "data_merged = pd.merge(data, player_stats_std, on='player_id', how='left')\n",
        "print(data_merged)"
      ],
      "metadata": {
        "colab": {
          "base_uri": "https://localhost:8080/"
        },
        "id": "oWtkxVlpZwKE",
        "outputId": "0a983fe8-cb50-49c9-bef2-5739c028d835"
      },
      "execution_count": null,
      "outputs": [
        {
          "output_type": "stream",
          "name": "stdout",
          "text": [
            "   player_id  평균자책점  피안타  4사구  탈삼진  WHIP    키  몸무게  평균자책점_표준편차  피안타_표준편차  \\\n",
            "0          1   1.50   29   16   69  0.83  188   90     2.73012   2.91139   \n",
            "1          1   0.00    2    2   18  0.20  188   90     2.73012   2.91139   \n",
            "2          1   4.50    6    2    8  1.33  188   90     2.73012   2.91139   \n",
            "3          1   0.00    3    0    9  0.67  188   90     2.73012   2.91139   \n",
            "4          1   0.00    0    0    3  0.00  188   90     2.73012   2.91139   \n",
            "5          1   6.75    7    0    3  2.00  188   90     2.73012   2.91139   \n",
            "6          1   1.93    8   10   22  1.29  188   90     2.73012   2.91139   \n",
            "7          1   0.00    3    2    6  0.80  188   90     2.73012   2.91139   \n",
            "\n",
            "   4사구_표준편차  탈삼진_표준편차  WHIP_표준편차  \n",
            "0  3.545621  7.380799   0.696406  \n",
            "1  3.545621  7.380799   0.696406  \n",
            "2  3.545621  7.380799   0.696406  \n",
            "3  3.545621  7.380799   0.696406  \n",
            "4  3.545621  7.380799   0.696406  \n",
            "5  3.545621  7.380799   0.696406  \n",
            "6  3.545621  7.380799   0.696406  \n",
            "7  3.545621  7.380799   0.696406  \n"
          ]
        }
      ]
    },
    {
      "cell_type": "code",
      "source": [
        "new_data = data_merged.head(1)\n",
        "new_data = new_data.drop(columns = ['평균자책점'])\n",
        "print(new_data)"
      ],
      "metadata": {
        "colab": {
          "base_uri": "https://localhost:8080/"
        },
        "id": "UmB5fiBxZ-39",
        "outputId": "06ea4320-a83c-4e57-9d43-3e27b85b536d"
      },
      "execution_count": null,
      "outputs": [
        {
          "output_type": "stream",
          "name": "stdout",
          "text": [
            "   player_id  피안타  4사구  탈삼진  WHIP    키  몸무게  평균자책점_표준편차  피안타_표준편차  4사구_표준편차  \\\n",
            "0          1   29   16   69  0.83  188   90     2.73012   2.91139  3.545621   \n",
            "\n",
            "   탈삼진_표준편차  WHIP_표준편차  \n",
            "0  7.380799   0.696406  \n"
          ]
        }
      ]
    },
    {
      "cell_type": "code",
      "source": [
        "import joblib\n",
        "\n",
        "# 저장된 모델 불러오기\n",
        "model = joblib.load('best_model.pkl')\n",
        "\n",
        "# 새로운 데이터 예측\n",
        "prediction = model.predict(new_data)\n",
        "\n",
        "print(f'Predicted 평균자책점: {prediction[0]}')"
      ],
      "metadata": {
        "colab": {
          "base_uri": "https://localhost:8080/"
        },
        "id": "JrJNYDg2YSS8",
        "outputId": "05196b92-11c9-4cb5-dc60-3cc7a176ca4a"
      },
      "execution_count": null,
      "outputs": [
        {
          "output_type": "stream",
          "name": "stdout",
          "text": [
            "Predicted 평균자책점: 1.040817504497803\n"
          ]
        }
      ]
    },
    {
      "cell_type": "markdown",
      "source": [
        "위는 직접 테스트를 해본 결과이다.\n",
        "특정 선수의 1~2학년 데이터를 모아서 입력하면 그 선수의 성적 표준편차를 계산하고 이를 모델에 입력해 예상 평균자책점값을 출력받는다."
      ],
      "metadata": {
        "id": "_7NDmxRCLB9C"
      }
    },
    {
      "cell_type": "code",
      "source": [],
      "metadata": {
        "id": "AdD7YhZ3MjVA"
      },
      "execution_count": null,
      "outputs": []
    }
  ]
}